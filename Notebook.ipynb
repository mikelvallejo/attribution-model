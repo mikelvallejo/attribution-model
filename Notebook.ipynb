{
    "cells": [
        {
            "cell_type": "code",
            "execution_count": 10,
            "source": [
                "import pandas as pd\n",
                "import numpy as np\n",
                "from collections import defaultdict\n",
                "import matplotlib.pyplot as plt\n",
                "import seaborn as sns\n",
                "\n",
                "df = pd.read_csv('attribution data.csv')\n",
                "df = df.sort_values(['cookie', 'time'],\n",
                "                    ascending=[False, True])\n",
                "df['visit_order'] = df.groupby('cookie').cumcount() + 1"
            ],
            "outputs": [],
            "metadata": {}
        },
        {
            "cell_type": "code",
            "execution_count": 11,
            "source": [
                "df.head()"
            ],
            "outputs": [
                {
                    "output_type": "execute_result",
                    "data": {
                        "text/plain": [
                            "                           cookie                  time interaction  \\\n",
                            "586736  ooooohAFofEnonEikhAi3fF9o  2018-07-14T17:17:12Z  impression   \n",
                            "586734  ooooiBh70D3k3BfAhDFfii9h7  2018-07-03T12:57:25Z  impression   \n",
                            "586735  ooooiBh70D3k3BfAhDFfii9h7  2018-07-19T08:17:59Z  impression   \n",
                            "586731  ooooEiB0CCoEf9fiiC90Dfhfk  2018-07-06T23:30:38Z  impression   \n",
                            "586732  ooooEiB0CCoEf9fiiC90Dfhfk  2018-07-12T23:50:45Z  impression   \n",
                            "\n",
                            "        conversion  conversion_value         channel  visit_order  \n",
                            "586736           0               0.0     Paid Search            1  \n",
                            "586734           0               0.0     Paid Search            1  \n",
                            "586735           0               0.0    Online Video            2  \n",
                            "586731           0               0.0  Online Display            1  \n",
                            "586732           0               0.0  Online Display            2  "
                        ],
                        "text/html": [
                            "<div>\n",
                            "<style scoped>\n",
                            "    .dataframe tbody tr th:only-of-type {\n",
                            "        vertical-align: middle;\n",
                            "    }\n",
                            "\n",
                            "    .dataframe tbody tr th {\n",
                            "        vertical-align: top;\n",
                            "    }\n",
                            "\n",
                            "    .dataframe thead th {\n",
                            "        text-align: right;\n",
                            "    }\n",
                            "</style>\n",
                            "<table border=\"1\" class=\"dataframe\">\n",
                            "  <thead>\n",
                            "    <tr style=\"text-align: right;\">\n",
                            "      <th></th>\n",
                            "      <th>cookie</th>\n",
                            "      <th>time</th>\n",
                            "      <th>interaction</th>\n",
                            "      <th>conversion</th>\n",
                            "      <th>conversion_value</th>\n",
                            "      <th>channel</th>\n",
                            "      <th>visit_order</th>\n",
                            "    </tr>\n",
                            "  </thead>\n",
                            "  <tbody>\n",
                            "    <tr>\n",
                            "      <th>586736</th>\n",
                            "      <td>ooooohAFofEnonEikhAi3fF9o</td>\n",
                            "      <td>2018-07-14T17:17:12Z</td>\n",
                            "      <td>impression</td>\n",
                            "      <td>0</td>\n",
                            "      <td>0.0</td>\n",
                            "      <td>Paid Search</td>\n",
                            "      <td>1</td>\n",
                            "    </tr>\n",
                            "    <tr>\n",
                            "      <th>586734</th>\n",
                            "      <td>ooooiBh70D3k3BfAhDFfii9h7</td>\n",
                            "      <td>2018-07-03T12:57:25Z</td>\n",
                            "      <td>impression</td>\n",
                            "      <td>0</td>\n",
                            "      <td>0.0</td>\n",
                            "      <td>Paid Search</td>\n",
                            "      <td>1</td>\n",
                            "    </tr>\n",
                            "    <tr>\n",
                            "      <th>586735</th>\n",
                            "      <td>ooooiBh70D3k3BfAhDFfii9h7</td>\n",
                            "      <td>2018-07-19T08:17:59Z</td>\n",
                            "      <td>impression</td>\n",
                            "      <td>0</td>\n",
                            "      <td>0.0</td>\n",
                            "      <td>Online Video</td>\n",
                            "      <td>2</td>\n",
                            "    </tr>\n",
                            "    <tr>\n",
                            "      <th>586731</th>\n",
                            "      <td>ooooEiB0CCoEf9fiiC90Dfhfk</td>\n",
                            "      <td>2018-07-06T23:30:38Z</td>\n",
                            "      <td>impression</td>\n",
                            "      <td>0</td>\n",
                            "      <td>0.0</td>\n",
                            "      <td>Online Display</td>\n",
                            "      <td>1</td>\n",
                            "    </tr>\n",
                            "    <tr>\n",
                            "      <th>586732</th>\n",
                            "      <td>ooooEiB0CCoEf9fiiC90Dfhfk</td>\n",
                            "      <td>2018-07-12T23:50:45Z</td>\n",
                            "      <td>impression</td>\n",
                            "      <td>0</td>\n",
                            "      <td>0.0</td>\n",
                            "      <td>Online Display</td>\n",
                            "      <td>2</td>\n",
                            "    </tr>\n",
                            "  </tbody>\n",
                            "</table>\n",
                            "</div>"
                        ]
                    },
                    "metadata": {},
                    "execution_count": 11
                }
            ],
            "metadata": {}
        },
        {
            "cell_type": "markdown",
            "source": [
                "# Path creation"
            ],
            "metadata": {}
        },
        {
            "cell_type": "code",
            "execution_count": 12,
            "source": [
                "df_paths = df.groupby('cookie')['channel'].aggregate(\n",
                "    lambda x: x.unique().tolist()).reset_index()"
            ],
            "outputs": [],
            "metadata": {}
        },
        {
            "cell_type": "code",
            "execution_count": 13,
            "source": [
                "df_last_interaction = df.drop_duplicates('cookie', keep='last')[['cookie', 'conversion']]"
            ],
            "outputs": [],
            "metadata": {}
        },
        {
            "cell_type": "code",
            "execution_count": 14,
            "source": [
                "df_paths = pd.merge(df_paths, df_last_interaction, how='left', on='cookie')"
            ],
            "outputs": [],
            "metadata": {}
        },
        {
            "cell_type": "code",
            "execution_count": 15,
            "source": [
                "df_paths"
            ],
            "outputs": [
                {
                    "output_type": "execute_result",
                    "data": {
                        "text/plain": [
                            "                           cookie                      channel  conversion\n",
                            "0       00000FkCnDfDDf0iC97iC703B  [Instagram, Online Display]           0\n",
                            "1       0000nACkD9nFkBBDECD3ki00E                [Paid Search]           0\n",
                            "2       0003EfE37E93D0BC03iBhBBhF                [Paid Search]           0\n",
                            "3       00073CFE3FoFCn70fBhB3kfon                  [Instagram]           0\n",
                            "4       00079hhBkDF3k3kDkiFi9EFAD                [Paid Search]           0\n",
                            "...                           ...                          ...         ...\n",
                            "240103  ooooE0hkAFBkED90ChDDiBFAf             [Online Display]           0\n",
                            "240104  ooooEBE0o0D97ACAAAnDoi3F0             [Online Display]           0\n",
                            "240105  ooooEiB0CCoEf9fiiC90Dfhfk             [Online Display]           0\n",
                            "240106  ooooiBh70D3k3BfAhDFfii9h7  [Paid Search, Online Video]           0\n",
                            "240107  ooooohAFofEnonEikhAi3fF9o                [Paid Search]           0\n",
                            "\n",
                            "[240108 rows x 3 columns]"
                        ],
                        "text/html": [
                            "<div>\n",
                            "<style scoped>\n",
                            "    .dataframe tbody tr th:only-of-type {\n",
                            "        vertical-align: middle;\n",
                            "    }\n",
                            "\n",
                            "    .dataframe tbody tr th {\n",
                            "        vertical-align: top;\n",
                            "    }\n",
                            "\n",
                            "    .dataframe thead th {\n",
                            "        text-align: right;\n",
                            "    }\n",
                            "</style>\n",
                            "<table border=\"1\" class=\"dataframe\">\n",
                            "  <thead>\n",
                            "    <tr style=\"text-align: right;\">\n",
                            "      <th></th>\n",
                            "      <th>cookie</th>\n",
                            "      <th>channel</th>\n",
                            "      <th>conversion</th>\n",
                            "    </tr>\n",
                            "  </thead>\n",
                            "  <tbody>\n",
                            "    <tr>\n",
                            "      <th>0</th>\n",
                            "      <td>00000FkCnDfDDf0iC97iC703B</td>\n",
                            "      <td>[Instagram, Online Display]</td>\n",
                            "      <td>0</td>\n",
                            "    </tr>\n",
                            "    <tr>\n",
                            "      <th>1</th>\n",
                            "      <td>0000nACkD9nFkBBDECD3ki00E</td>\n",
                            "      <td>[Paid Search]</td>\n",
                            "      <td>0</td>\n",
                            "    </tr>\n",
                            "    <tr>\n",
                            "      <th>2</th>\n",
                            "      <td>0003EfE37E93D0BC03iBhBBhF</td>\n",
                            "      <td>[Paid Search]</td>\n",
                            "      <td>0</td>\n",
                            "    </tr>\n",
                            "    <tr>\n",
                            "      <th>3</th>\n",
                            "      <td>00073CFE3FoFCn70fBhB3kfon</td>\n",
                            "      <td>[Instagram]</td>\n",
                            "      <td>0</td>\n",
                            "    </tr>\n",
                            "    <tr>\n",
                            "      <th>4</th>\n",
                            "      <td>00079hhBkDF3k3kDkiFi9EFAD</td>\n",
                            "      <td>[Paid Search]</td>\n",
                            "      <td>0</td>\n",
                            "    </tr>\n",
                            "    <tr>\n",
                            "      <th>...</th>\n",
                            "      <td>...</td>\n",
                            "      <td>...</td>\n",
                            "      <td>...</td>\n",
                            "    </tr>\n",
                            "    <tr>\n",
                            "      <th>240103</th>\n",
                            "      <td>ooooE0hkAFBkED90ChDDiBFAf</td>\n",
                            "      <td>[Online Display]</td>\n",
                            "      <td>0</td>\n",
                            "    </tr>\n",
                            "    <tr>\n",
                            "      <th>240104</th>\n",
                            "      <td>ooooEBE0o0D97ACAAAnDoi3F0</td>\n",
                            "      <td>[Online Display]</td>\n",
                            "      <td>0</td>\n",
                            "    </tr>\n",
                            "    <tr>\n",
                            "      <th>240105</th>\n",
                            "      <td>ooooEiB0CCoEf9fiiC90Dfhfk</td>\n",
                            "      <td>[Online Display]</td>\n",
                            "      <td>0</td>\n",
                            "    </tr>\n",
                            "    <tr>\n",
                            "      <th>240106</th>\n",
                            "      <td>ooooiBh70D3k3BfAhDFfii9h7</td>\n",
                            "      <td>[Paid Search, Online Video]</td>\n",
                            "      <td>0</td>\n",
                            "    </tr>\n",
                            "    <tr>\n",
                            "      <th>240107</th>\n",
                            "      <td>ooooohAFofEnonEikhAi3fF9o</td>\n",
                            "      <td>[Paid Search]</td>\n",
                            "      <td>0</td>\n",
                            "    </tr>\n",
                            "  </tbody>\n",
                            "</table>\n",
                            "<p>240108 rows × 3 columns</p>\n",
                            "</div>"
                        ]
                    },
                    "metadata": {},
                    "execution_count": 15
                }
            ],
            "metadata": {}
        },
        {
            "cell_type": "code",
            "execution_count": 16,
            "source": [
                "df_paths['path'] = np.where( df_paths['conversion'] == 0,\n",
                "['Start, '] + df_paths['channel'].apply(', '.join) + [', Null'],\n",
                "['Start, '] + df_paths['channel'].apply(', '.join) + [', Conversion'])\n",
                "\n",
                "\n",
                "df_paths['path'] = df_paths['path'].str.split(', ')\n",
                "\n",
                "df_paths = df_paths[['cookie', 'path', 'conversion']]"
            ],
            "outputs": [],
            "metadata": {}
        },
        {
            "cell_type": "markdown",
            "source": [
                "# 10 most common paths"
            ],
            "metadata": {}
        },
        {
            "cell_type": "code",
            "execution_count": 35,
            "source": [
                "df_paths['string'] = df_paths['path'].apply(lambda x: ' -> '.join(x))"
            ],
            "outputs": [],
            "metadata": {}
        },
        {
            "cell_type": "code",
            "execution_count": 49,
            "source": [
                "df_paths.groupby('string')['conversion'].count().sort_values(ascending=False).head(10)"
            ],
            "outputs": [
                {
                    "output_type": "execute_result",
                    "data": {
                        "text/plain": [
                            "string\n",
                            "Start -> Paid Search -> Null                      59396\n",
                            "Start -> Facebook -> Null                         43568\n",
                            "Start -> Online Video -> Null                     26402\n",
                            "Start -> Online Display -> Null                   25997\n",
                            "Start -> Instagram -> Null                        15659\n",
                            "Start -> Facebook -> Instagram -> Null            10470\n",
                            "Start -> Instagram -> Facebook -> Null             7467\n",
                            "Start -> Paid Search -> Conversion                 3757\n",
                            "Start -> Paid Search -> Facebook -> Null           3356\n",
                            "Start -> Paid Search -> Online Display -> Null     3101\n",
                            "Name: conversion, dtype: int64"
                        ]
                    },
                    "metadata": {},
                    "execution_count": 49
                }
            ],
            "metadata": {}
        },
        {
            "cell_type": "markdown",
            "source": [
                "## Paths with more conversions"
            ],
            "metadata": {}
        },
        {
            "cell_type": "code",
            "execution_count": 48,
            "source": [
                "df_paths[df_paths.conversion == 1].groupby('string')['conversion'].count().sort_values(ascending=False).head(10)"
            ],
            "outputs": [
                {
                    "output_type": "execute_result",
                    "data": {
                        "text/plain": [
                            "string\n",
                            "Start -> Paid Search -> Conversion                      3757\n",
                            "Start -> Facebook -> Conversion                         3001\n",
                            "Start -> Online Video -> Conversion                     2634\n",
                            "Start -> Online Display -> Conversion                   1578\n",
                            "Start -> Facebook -> Instagram -> Conversion            1345\n",
                            "Start -> Instagram -> Conversion                        1028\n",
                            "Start -> Instagram -> Facebook -> Conversion             914\n",
                            "Start -> Online Display -> Paid Search -> Conversion     271\n",
                            "Start -> Paid Search -> Online Display -> Conversion     260\n",
                            "Start -> Paid Search -> Facebook -> Conversion           253\n",
                            "Name: conversion, dtype: int64"
                        ]
                    },
                    "metadata": {},
                    "execution_count": 48
                }
            ],
            "metadata": {}
        },
        {
            "cell_type": "markdown",
            "source": [
                "# Markov Chains"
            ],
            "metadata": {}
        },
        {
            "cell_type": "code",
            "execution_count": 54,
            "source": [
                "list_of_paths = df_paths['path']\n",
                "total_conversions = sum(path.count('Conversion') for path in df_paths['path'].tolist())\n",
                "base_conversion_rate = total_conversions / len(list_of_paths)"
            ],
            "outputs": [],
            "metadata": {}
        },
        {
            "cell_type": "markdown",
            "source": [
                "## Transition states"
            ],
            "metadata": {}
        },
        {
            "cell_type": "code",
            "execution_count": 60,
            "source": [
                "def transition_states(list_of_paths):\n",
                "    list_of_unique_channels = set(x for element in list_of_paths for x in element)\n",
                "    transition_states = {x + '>' + y: 0 for x in list_of_unique_channels for y in list_of_unique_channels}\n",
                "\n",
                "    for possible_state in list_of_unique_channels:\n",
                "        if possible_state not in ['Conversion', 'Null']:\n",
                "            for user_path in list_of_paths:\n",
                "                if possible_state in user_path:\n",
                "                    indices = [i for i, s in enumerate(user_path) if possible_state in s]\n",
                "                    for col in indices:\n",
                "                        transition_states[user_path[col] + '>' + user_path[col + 1]] += 1\n",
                "\n",
                "    return transition_states\n",
                "\n",
                "\n",
                "trans_states = transition_states(list_of_paths)"
            ],
            "outputs": [],
            "metadata": {}
        },
        {
            "cell_type": "markdown",
            "source": [
                "## Transition probabilities"
            ],
            "metadata": {}
        },
        {
            "cell_type": "code",
            "execution_count": 65,
            "source": [
                "def transition_prob(trans_dict):\n",
                "    list_of_unique_channels = set(x for element in list_of_paths for x in element)\n",
                "    trans_prob = defaultdict(dict)\n",
                "    for state in list_of_unique_channels:\n",
                "        if state not in ['Conversion', 'Null']:\n",
                "            counter = 0\n",
                "            index = [i for i, s in enumerate(trans_dict) if state + '>' in s]\n",
                "            for col in index:\n",
                "                if trans_dict[list(trans_dict)[col]] > 0:\n",
                "                    counter += trans_dict[list(trans_dict)[col]]\n",
                "            for col in index:\n",
                "                if trans_dict[list(trans_dict)[col]] > 0:\n",
                "                    state_prob = float((trans_dict[list(trans_dict)[col]])) / float(counter)\n",
                "                    trans_prob[list(trans_dict)[col]] = state_prob\n",
                "\n",
                "    return trans_prob\n",
                "\n",
                "\n",
                "trans_prob = transition_prob(trans_states)"
            ],
            "outputs": [],
            "metadata": {}
        },
        {
            "cell_type": "code",
            "execution_count": 67,
            "source": [
                "trans_prob"
            ],
            "outputs": [
                {
                    "output_type": "execute_result",
                    "data": {
                        "text/plain": [
                            "defaultdict(dict,\n",
                            "            {'Paid Search>Instagram': 0.03419630796938316,\n",
                            "             'Paid Search>Null': 0.7707789284106259,\n",
                            "             'Paid Search>Conversion': 0.053309320126069336,\n",
                            "             'Paid Search>Online Display': 0.04805267897343539,\n",
                            "             'Paid Search>Facebook': 0.06444169293111211,\n",
                            "             'Paid Search>Online Video': 0.029221071589374155,\n",
                            "             'Instagram>Paid Search': 0.04580924271216593,\n",
                            "             'Instagram>Null': 0.6297861157158452,\n",
                            "             'Instagram>Conversion': 0.057979218048760765,\n",
                            "             'Instagram>Online Display': 0.023531314438199977,\n",
                            "             'Instagram>Facebook': 0.2187765333764606,\n",
                            "             'Instagram>Online Video': 0.024117575708567502,\n",
                            "             'Start>Paid Search': 0.31739883718993117,\n",
                            "             'Start>Instagram': 0.11918803205224315,\n",
                            "             'Start>Online Display': 0.14264414346877238,\n",
                            "             'Start>Facebook': 0.2784080497109634,\n",
                            "             'Start>Online Video': 0.14236093757808985,\n",
                            "             'Online Display>Paid Search': 0.09238569148436766,\n",
                            "             'Online Display>Instagram': 0.02936344005257722,\n",
                            "             'Online Display>Null': 0.7566425687728852,\n",
                            "             'Online Display>Conversion': 0.05032391324758239,\n",
                            "             'Online Display>Facebook': 0.053985541263731104,\n",
                            "             'Online Display>Online Video': 0.017298845178856444,\n",
                            "             'Facebook>Paid Search': 0.05065531914893617,\n",
                            "             'Facebook>Instagram': 0.1730723404255319,\n",
                            "             'Facebook>Null': 0.6731234042553191,\n",
                            "             'Facebook>Conversion': 0.053219858156028366,\n",
                            "             'Facebook>Online Display': 0.02435177304964539,\n",
                            "             'Facebook>Online Video': 0.025577304964539006,\n",
                            "             'Online Video>Paid Search': 0.04794687759386749,\n",
                            "             'Online Video>Instagram': 0.03190762169815927,\n",
                            "             'Online Video>Null': 0.7637566525072018,\n",
                            "             'Online Video>Conversion': 0.0781455983594551,\n",
                            "             'Online Video>Online Display': 0.018919974610614718,\n",
                            "             'Online Video>Facebook': 0.059323275230701626})"
                        ]
                    },
                    "metadata": {},
                    "execution_count": 67
                }
            ],
            "metadata": {}
        },
        {
            "cell_type": "code",
            "execution_count": 68,
            "source": [
                "def transition_matrix(list_of_paths, transition_probabilities):\n",
                "    trans_matrix = pd.DataFrame()\n",
                "    list_of_unique_channels = set(x for element in list_of_paths for x in element)\n",
                "\n",
                "    for channel in list_of_unique_channels:\n",
                "        trans_matrix[channel] = 0.00\n",
                "        trans_matrix.loc[channel] = 0.00\n",
                "        trans_matrix.loc[channel][channel] = 1.0 if channel in ['Conversion', 'Null'] else 0.0\n",
                "\n",
                "    for key, value in transition_probabilities.items():\n",
                "        origin, destination = key.split('>')\n",
                "        trans_matrix.at[origin, destination] = value\n",
                "\n",
                "    return trans_matrix\n",
                "\n",
                "\n",
                "trans_matrix = transition_matrix(list_of_paths, trans_prob)"
            ],
            "outputs": [],
            "metadata": {}
        },
        {
            "cell_type": "code",
            "execution_count": 69,
            "source": [
                "trans_matrix"
            ],
            "outputs": [
                {
                    "output_type": "execute_result",
                    "data": {
                        "text/plain": [
                            "                Paid Search  Instagram  Start      Null  Conversion  \\\n",
                            "Paid Search        0.000000   0.034196    0.0  0.770779    0.053309   \n",
                            "Instagram          0.045809   0.000000    0.0  0.629786    0.057979   \n",
                            "Start              0.317399   0.119188    0.0  0.000000    0.000000   \n",
                            "Null               0.000000   0.000000    0.0  1.000000    0.000000   \n",
                            "Conversion         0.000000   0.000000    0.0  0.000000    1.000000   \n",
                            "Online Display     0.092386   0.029363    0.0  0.756643    0.050324   \n",
                            "Facebook           0.050655   0.173072    0.0  0.673123    0.053220   \n",
                            "Online Video       0.047947   0.031908    0.0  0.763757    0.078146   \n",
                            "\n",
                            "                Online Display  Facebook  Online Video  \n",
                            "Paid Search           0.048053  0.064442      0.029221  \n",
                            "Instagram             0.023531  0.218777      0.024118  \n",
                            "Start                 0.142644  0.278408      0.142361  \n",
                            "Null                  0.000000  0.000000      0.000000  \n",
                            "Conversion            0.000000  0.000000      0.000000  \n",
                            "Online Display        0.000000  0.053986      0.017299  \n",
                            "Facebook              0.024352  0.000000      0.025577  \n",
                            "Online Video          0.018920  0.059323      0.000000  "
                        ],
                        "text/html": [
                            "<div>\n",
                            "<style scoped>\n",
                            "    .dataframe tbody tr th:only-of-type {\n",
                            "        vertical-align: middle;\n",
                            "    }\n",
                            "\n",
                            "    .dataframe tbody tr th {\n",
                            "        vertical-align: top;\n",
                            "    }\n",
                            "\n",
                            "    .dataframe thead th {\n",
                            "        text-align: right;\n",
                            "    }\n",
                            "</style>\n",
                            "<table border=\"1\" class=\"dataframe\">\n",
                            "  <thead>\n",
                            "    <tr style=\"text-align: right;\">\n",
                            "      <th></th>\n",
                            "      <th>Paid Search</th>\n",
                            "      <th>Instagram</th>\n",
                            "      <th>Start</th>\n",
                            "      <th>Null</th>\n",
                            "      <th>Conversion</th>\n",
                            "      <th>Online Display</th>\n",
                            "      <th>Facebook</th>\n",
                            "      <th>Online Video</th>\n",
                            "    </tr>\n",
                            "  </thead>\n",
                            "  <tbody>\n",
                            "    <tr>\n",
                            "      <th>Paid Search</th>\n",
                            "      <td>0.000000</td>\n",
                            "      <td>0.034196</td>\n",
                            "      <td>0.0</td>\n",
                            "      <td>0.770779</td>\n",
                            "      <td>0.053309</td>\n",
                            "      <td>0.048053</td>\n",
                            "      <td>0.064442</td>\n",
                            "      <td>0.029221</td>\n",
                            "    </tr>\n",
                            "    <tr>\n",
                            "      <th>Instagram</th>\n",
                            "      <td>0.045809</td>\n",
                            "      <td>0.000000</td>\n",
                            "      <td>0.0</td>\n",
                            "      <td>0.629786</td>\n",
                            "      <td>0.057979</td>\n",
                            "      <td>0.023531</td>\n",
                            "      <td>0.218777</td>\n",
                            "      <td>0.024118</td>\n",
                            "    </tr>\n",
                            "    <tr>\n",
                            "      <th>Start</th>\n",
                            "      <td>0.317399</td>\n",
                            "      <td>0.119188</td>\n",
                            "      <td>0.0</td>\n",
                            "      <td>0.000000</td>\n",
                            "      <td>0.000000</td>\n",
                            "      <td>0.142644</td>\n",
                            "      <td>0.278408</td>\n",
                            "      <td>0.142361</td>\n",
                            "    </tr>\n",
                            "    <tr>\n",
                            "      <th>Null</th>\n",
                            "      <td>0.000000</td>\n",
                            "      <td>0.000000</td>\n",
                            "      <td>0.0</td>\n",
                            "      <td>1.000000</td>\n",
                            "      <td>0.000000</td>\n",
                            "      <td>0.000000</td>\n",
                            "      <td>0.000000</td>\n",
                            "      <td>0.000000</td>\n",
                            "    </tr>\n",
                            "    <tr>\n",
                            "      <th>Conversion</th>\n",
                            "      <td>0.000000</td>\n",
                            "      <td>0.000000</td>\n",
                            "      <td>0.0</td>\n",
                            "      <td>0.000000</td>\n",
                            "      <td>1.000000</td>\n",
                            "      <td>0.000000</td>\n",
                            "      <td>0.000000</td>\n",
                            "      <td>0.000000</td>\n",
                            "    </tr>\n",
                            "    <tr>\n",
                            "      <th>Online Display</th>\n",
                            "      <td>0.092386</td>\n",
                            "      <td>0.029363</td>\n",
                            "      <td>0.0</td>\n",
                            "      <td>0.756643</td>\n",
                            "      <td>0.050324</td>\n",
                            "      <td>0.000000</td>\n",
                            "      <td>0.053986</td>\n",
                            "      <td>0.017299</td>\n",
                            "    </tr>\n",
                            "    <tr>\n",
                            "      <th>Facebook</th>\n",
                            "      <td>0.050655</td>\n",
                            "      <td>0.173072</td>\n",
                            "      <td>0.0</td>\n",
                            "      <td>0.673123</td>\n",
                            "      <td>0.053220</td>\n",
                            "      <td>0.024352</td>\n",
                            "      <td>0.000000</td>\n",
                            "      <td>0.025577</td>\n",
                            "    </tr>\n",
                            "    <tr>\n",
                            "      <th>Online Video</th>\n",
                            "      <td>0.047947</td>\n",
                            "      <td>0.031908</td>\n",
                            "      <td>0.0</td>\n",
                            "      <td>0.763757</td>\n",
                            "      <td>0.078146</td>\n",
                            "      <td>0.018920</td>\n",
                            "      <td>0.059323</td>\n",
                            "      <td>0.000000</td>\n",
                            "    </tr>\n",
                            "  </tbody>\n",
                            "</table>\n",
                            "</div>"
                        ]
                    },
                    "metadata": {},
                    "execution_count": 69
                }
            ],
            "metadata": {}
        },
        {
            "cell_type": "code",
            "execution_count": 70,
            "source": [
                "def removal_effects(df, conversion_rate):\n",
                "    removal_effects_dict = {}\n",
                "    channels = [channel for channel in df.columns if channel not in ['Start',\n",
                "                                                                     'Null',\n",
                "                                                                     'Conversion']]\n",
                "    for channel in channels:\n",
                "        removal_df = df.drop(channel, axis=1).drop(channel, axis=0)\n",
                "        for column in removal_df.columns:\n",
                "            row_sum = np.sum(list(removal_df.loc[column]))\n",
                "            null_pct = float(1) - row_sum\n",
                "            if null_pct != 0:\n",
                "                removal_df.loc[column]['Null'] = null_pct\n",
                "            removal_df.loc['Null']['Null'] = 1.0\n",
                "\n",
                "        removal_to_conv = removal_df[\n",
                "            ['Null', 'Conversion']].drop(['Null', 'Conversion'], axis=0)\n",
                "        removal_to_non_conv = removal_df.drop(\n",
                "            ['Null', 'Conversion'], axis=1).drop(['Null', 'Conversion'], axis=0)\n",
                "\n",
                "        removal_inv_diff = np.linalg.inv(\n",
                "            np.identity(\n",
                "                len(removal_to_non_conv.columns)) - np.asarray(removal_to_non_conv))\n",
                "        removal_dot_prod = np.dot(removal_inv_diff, np.asarray(removal_to_conv))\n",
                "        removal_cvr = pd.DataFrame(removal_dot_prod,\n",
                "                                   index=removal_to_conv.index)[[1]].loc['Start'].values[0]\n",
                "        removal_effect = 1 - removal_cvr / conversion_rate\n",
                "        removal_effects_dict[channel] = removal_effect\n",
                "\n",
                "    return removal_effects_dict\n",
                "\n",
                "\n",
                "removal_effects_dict = removal_effects(trans_matrix, base_conversion_rate)"
            ],
            "outputs": [],
            "metadata": {}
        },
        {
            "cell_type": "code",
            "execution_count": 71,
            "source": [
                "removal_effects_dict"
            ],
            "outputs": [
                {
                    "output_type": "execute_result",
                    "data": {
                        "text/plain": [
                            "{'Paid Search': 0.3311037560086154,\n",
                            " 'Instagram': 0.21731366149038456,\n",
                            " 'Online Display': 0.15435482356041286,\n",
                            " 'Facebook': 0.3547597674182721,\n",
                            " 'Online Video': 0.2069141165564219}"
                        ]
                    },
                    "metadata": {},
                    "execution_count": 71
                }
            ],
            "metadata": {}
        },
        {
            "cell_type": "code",
            "execution_count": 72,
            "source": [
                "def markov_chain_allocations(removal_effects, total_conversions):\n",
                "    re_sum = np.sum(list(removal_effects.values()))\n",
                "\n",
                "    return {k: (v / re_sum) * total_conversions for k, v in removal_effects.items()}\n",
                "\n",
                "\n",
                "attributions = markov_chain_allocations(removal_effects_dict, total_conversions)"
            ],
            "outputs": [],
            "metadata": {}
        },
        {
            "cell_type": "code",
            "execution_count": 73,
            "source": [
                "attributions"
            ],
            "outputs": [
                {
                    "output_type": "execute_result",
                    "data": {
                        "text/plain": [
                            "{'Paid Search': 4618.891257291355,\n",
                            " 'Instagram': 3031.5215485558924,\n",
                            " 'Online Display': 2153.2469267590836,\n",
                            " 'Facebook': 4948.892177847522,\n",
                            " 'Online Video': 2886.448089546147}"
                        ]
                    },
                    "metadata": {},
                    "execution_count": 73
                }
            ],
            "metadata": {}
        }
    ],
    "metadata": {
        "orig_nbformat": 4,
        "language_info": {
            "name": "python",
            "version": "3.8.8",
            "mimetype": "text/x-python",
            "codemirror_mode": {
                "name": "ipython",
                "version": 3
            },
            "pygments_lexer": "ipython3",
            "nbconvert_exporter": "python",
            "file_extension": ".py"
        },
        "kernelspec": {
            "name": "python3",
            "display_name": "Python 3.8.8 64-bit ('clase': conda)"
        },
        "interpreter": {
            "hash": "d42fd19a2ab707abe08ee910f571b4e52a19666f2318787bfa3fbaeba78fa94c"
        }
    },
    "nbformat": 4,
    "nbformat_minor": 2
}