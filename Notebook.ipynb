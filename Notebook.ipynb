{
    "cells": [
        {
            "cell_type": "code",
            "execution_count": 10,
            "source": [
                "import pandas as pd\n",
                "import numpy as np\n",
                "from collections import defaultdict\n",
                "import matplotlib.pyplot as plt\n",
                "import seaborn as sns\n",
                "\n",
                "df = pd.read_csv('attribution data.csv')\n",
                "df = df.sort_values(['cookie', 'time'],\n",
                "                    ascending=[False, True])\n",
                "df['visit_order'] = df.groupby('cookie').cumcount() + 1"
            ],
            "outputs": [],
            "metadata": {}
        },
        {
            "cell_type": "code",
            "execution_count": 11,
            "source": [
                "df.head()"
            ],
            "outputs": [
                {
                    "output_type": "execute_result",
                    "data": {
                        "text/plain": [
                            "                           cookie                  time interaction  \\\n",
                            "586736  ooooohAFofEnonEikhAi3fF9o  2018-07-14T17:17:12Z  impression   \n",
                            "586734  ooooiBh70D3k3BfAhDFfii9h7  2018-07-03T12:57:25Z  impression   \n",
                            "586735  ooooiBh70D3k3BfAhDFfii9h7  2018-07-19T08:17:59Z  impression   \n",
                            "586731  ooooEiB0CCoEf9fiiC90Dfhfk  2018-07-06T23:30:38Z  impression   \n",
                            "586732  ooooEiB0CCoEf9fiiC90Dfhfk  2018-07-12T23:50:45Z  impression   \n",
                            "\n",
                            "        conversion  conversion_value         channel  visit_order  \n",
                            "586736           0               0.0     Paid Search            1  \n",
                            "586734           0               0.0     Paid Search            1  \n",
                            "586735           0               0.0    Online Video            2  \n",
                            "586731           0               0.0  Online Display            1  \n",
                            "586732           0               0.0  Online Display            2  "
                        ],
                        "text/html": [
                            "<div>\n",
                            "<style scoped>\n",
                            "    .dataframe tbody tr th:only-of-type {\n",
                            "        vertical-align: middle;\n",
                            "    }\n",
                            "\n",
                            "    .dataframe tbody tr th {\n",
                            "        vertical-align: top;\n",
                            "    }\n",
                            "\n",
                            "    .dataframe thead th {\n",
                            "        text-align: right;\n",
                            "    }\n",
                            "</style>\n",
                            "<table border=\"1\" class=\"dataframe\">\n",
                            "  <thead>\n",
                            "    <tr style=\"text-align: right;\">\n",
                            "      <th></th>\n",
                            "      <th>cookie</th>\n",
                            "      <th>time</th>\n",
                            "      <th>interaction</th>\n",
                            "      <th>conversion</th>\n",
                            "      <th>conversion_value</th>\n",
                            "      <th>channel</th>\n",
                            "      <th>visit_order</th>\n",
                            "    </tr>\n",
                            "  </thead>\n",
                            "  <tbody>\n",
                            "    <tr>\n",
                            "      <th>586736</th>\n",
                            "      <td>ooooohAFofEnonEikhAi3fF9o</td>\n",
                            "      <td>2018-07-14T17:17:12Z</td>\n",
                            "      <td>impression</td>\n",
                            "      <td>0</td>\n",
                            "      <td>0.0</td>\n",
                            "      <td>Paid Search</td>\n",
                            "      <td>1</td>\n",
                            "    </tr>\n",
                            "    <tr>\n",
                            "      <th>586734</th>\n",
                            "      <td>ooooiBh70D3k3BfAhDFfii9h7</td>\n",
                            "      <td>2018-07-03T12:57:25Z</td>\n",
                            "      <td>impression</td>\n",
                            "      <td>0</td>\n",
                            "      <td>0.0</td>\n",
                            "      <td>Paid Search</td>\n",
                            "      <td>1</td>\n",
                            "    </tr>\n",
                            "    <tr>\n",
                            "      <th>586735</th>\n",
                            "      <td>ooooiBh70D3k3BfAhDFfii9h7</td>\n",
                            "      <td>2018-07-19T08:17:59Z</td>\n",
                            "      <td>impression</td>\n",
                            "      <td>0</td>\n",
                            "      <td>0.0</td>\n",
                            "      <td>Online Video</td>\n",
                            "      <td>2</td>\n",
                            "    </tr>\n",
                            "    <tr>\n",
                            "      <th>586731</th>\n",
                            "      <td>ooooEiB0CCoEf9fiiC90Dfhfk</td>\n",
                            "      <td>2018-07-06T23:30:38Z</td>\n",
                            "      <td>impression</td>\n",
                            "      <td>0</td>\n",
                            "      <td>0.0</td>\n",
                            "      <td>Online Display</td>\n",
                            "      <td>1</td>\n",
                            "    </tr>\n",
                            "    <tr>\n",
                            "      <th>586732</th>\n",
                            "      <td>ooooEiB0CCoEf9fiiC90Dfhfk</td>\n",
                            "      <td>2018-07-12T23:50:45Z</td>\n",
                            "      <td>impression</td>\n",
                            "      <td>0</td>\n",
                            "      <td>0.0</td>\n",
                            "      <td>Online Display</td>\n",
                            "      <td>2</td>\n",
                            "    </tr>\n",
                            "  </tbody>\n",
                            "</table>\n",
                            "</div>"
                        ]
                    },
                    "metadata": {},
                    "execution_count": 11
                }
            ],
            "metadata": {}
        },
        {
            "cell_type": "markdown",
            "source": [
                "# Path creation"
            ],
            "metadata": {}
        },
        {
            "cell_type": "code",
            "execution_count": 12,
            "source": [
                "df_paths = df.groupby('cookie')['channel'].aggregate(\n",
                "    lambda x: x.unique().tolist()).reset_index()"
            ],
            "outputs": [],
            "metadata": {}
        },
        {
            "cell_type": "code",
            "execution_count": 13,
            "source": [
                "df_last_interaction = df.drop_duplicates('cookie', keep='last')[['cookie', 'conversion']]"
            ],
            "outputs": [],
            "metadata": {}
        },
        {
            "cell_type": "code",
            "execution_count": 14,
            "source": [
                "df_paths = pd.merge(df_paths, df_last_interaction, how='left', on='cookie')"
            ],
            "outputs": [],
            "metadata": {}
        },
        {
            "cell_type": "code",
            "execution_count": 15,
            "source": [
                "df_paths"
            ],
            "outputs": [
                {
                    "output_type": "execute_result",
                    "data": {
                        "text/plain": [
                            "                           cookie                      channel  conversion\n",
                            "0       00000FkCnDfDDf0iC97iC703B  [Instagram, Online Display]           0\n",
                            "1       0000nACkD9nFkBBDECD3ki00E                [Paid Search]           0\n",
                            "2       0003EfE37E93D0BC03iBhBBhF                [Paid Search]           0\n",
                            "3       00073CFE3FoFCn70fBhB3kfon                  [Instagram]           0\n",
                            "4       00079hhBkDF3k3kDkiFi9EFAD                [Paid Search]           0\n",
                            "...                           ...                          ...         ...\n",
                            "240103  ooooE0hkAFBkED90ChDDiBFAf             [Online Display]           0\n",
                            "240104  ooooEBE0o0D97ACAAAnDoi3F0             [Online Display]           0\n",
                            "240105  ooooEiB0CCoEf9fiiC90Dfhfk             [Online Display]           0\n",
                            "240106  ooooiBh70D3k3BfAhDFfii9h7  [Paid Search, Online Video]           0\n",
                            "240107  ooooohAFofEnonEikhAi3fF9o                [Paid Search]           0\n",
                            "\n",
                            "[240108 rows x 3 columns]"
                        ],
                        "text/html": [
                            "<div>\n",
                            "<style scoped>\n",
                            "    .dataframe tbody tr th:only-of-type {\n",
                            "        vertical-align: middle;\n",
                            "    }\n",
                            "\n",
                            "    .dataframe tbody tr th {\n",
                            "        vertical-align: top;\n",
                            "    }\n",
                            "\n",
                            "    .dataframe thead th {\n",
                            "        text-align: right;\n",
                            "    }\n",
                            "</style>\n",
                            "<table border=\"1\" class=\"dataframe\">\n",
                            "  <thead>\n",
                            "    <tr style=\"text-align: right;\">\n",
                            "      <th></th>\n",
                            "      <th>cookie</th>\n",
                            "      <th>channel</th>\n",
                            "      <th>conversion</th>\n",
                            "    </tr>\n",
                            "  </thead>\n",
                            "  <tbody>\n",
                            "    <tr>\n",
                            "      <th>0</th>\n",
                            "      <td>00000FkCnDfDDf0iC97iC703B</td>\n",
                            "      <td>[Instagram, Online Display]</td>\n",
                            "      <td>0</td>\n",
                            "    </tr>\n",
                            "    <tr>\n",
                            "      <th>1</th>\n",
                            "      <td>0000nACkD9nFkBBDECD3ki00E</td>\n",
                            "      <td>[Paid Search]</td>\n",
                            "      <td>0</td>\n",
                            "    </tr>\n",
                            "    <tr>\n",
                            "      <th>2</th>\n",
                            "      <td>0003EfE37E93D0BC03iBhBBhF</td>\n",
                            "      <td>[Paid Search]</td>\n",
                            "      <td>0</td>\n",
                            "    </tr>\n",
                            "    <tr>\n",
                            "      <th>3</th>\n",
                            "      <td>00073CFE3FoFCn70fBhB3kfon</td>\n",
                            "      <td>[Instagram]</td>\n",
                            "      <td>0</td>\n",
                            "    </tr>\n",
                            "    <tr>\n",
                            "      <th>4</th>\n",
                            "      <td>00079hhBkDF3k3kDkiFi9EFAD</td>\n",
                            "      <td>[Paid Search]</td>\n",
                            "      <td>0</td>\n",
                            "    </tr>\n",
                            "    <tr>\n",
                            "      <th>...</th>\n",
                            "      <td>...</td>\n",
                            "      <td>...</td>\n",
                            "      <td>...</td>\n",
                            "    </tr>\n",
                            "    <tr>\n",
                            "      <th>240103</th>\n",
                            "      <td>ooooE0hkAFBkED90ChDDiBFAf</td>\n",
                            "      <td>[Online Display]</td>\n",
                            "      <td>0</td>\n",
                            "    </tr>\n",
                            "    <tr>\n",
                            "      <th>240104</th>\n",
                            "      <td>ooooEBE0o0D97ACAAAnDoi3F0</td>\n",
                            "      <td>[Online Display]</td>\n",
                            "      <td>0</td>\n",
                            "    </tr>\n",
                            "    <tr>\n",
                            "      <th>240105</th>\n",
                            "      <td>ooooEiB0CCoEf9fiiC90Dfhfk</td>\n",
                            "      <td>[Online Display]</td>\n",
                            "      <td>0</td>\n",
                            "    </tr>\n",
                            "    <tr>\n",
                            "      <th>240106</th>\n",
                            "      <td>ooooiBh70D3k3BfAhDFfii9h7</td>\n",
                            "      <td>[Paid Search, Online Video]</td>\n",
                            "      <td>0</td>\n",
                            "    </tr>\n",
                            "    <tr>\n",
                            "      <th>240107</th>\n",
                            "      <td>ooooohAFofEnonEikhAi3fF9o</td>\n",
                            "      <td>[Paid Search]</td>\n",
                            "      <td>0</td>\n",
                            "    </tr>\n",
                            "  </tbody>\n",
                            "</table>\n",
                            "<p>240108 rows × 3 columns</p>\n",
                            "</div>"
                        ]
                    },
                    "metadata": {},
                    "execution_count": 15
                }
            ],
            "metadata": {}
        },
        {
            "cell_type": "code",
            "execution_count": 16,
            "source": [
                "df_paths['path'] = np.where( df_paths['conversion'] == 0,\n",
                "['Start, '] + df_paths['channel'].apply(', '.join) + [', Null'],\n",
                "['Start, '] + df_paths['channel'].apply(', '.join) + [', Conversion'])\n",
                "\n",
                "\n",
                "df_paths['path'] = df_paths['path'].str.split(', ')\n",
                "\n",
                "df_paths = df_paths[['cookie', 'path', 'conversion']]"
            ],
            "outputs": [],
            "metadata": {}
        },
        {
            "cell_type": "markdown",
            "source": [
                "# 10 most common paths"
            ],
            "metadata": {}
        },
        {
            "cell_type": "code",
            "execution_count": 35,
            "source": [
                "df_paths['string'] = df_paths['path'].apply(lambda x: ' -> '.join(x))"
            ],
            "outputs": [],
            "metadata": {}
        },
        {
            "cell_type": "code",
            "execution_count": 49,
            "source": [
                "df_paths.groupby('string')['conversion'].count().sort_values(ascending=False).head(10)"
            ],
            "outputs": [
                {
                    "output_type": "execute_result",
                    "data": {
                        "text/plain": [
                            "string\n",
                            "Start -> Paid Search -> Null                      59396\n",
                            "Start -> Facebook -> Null                         43568\n",
                            "Start -> Online Video -> Null                     26402\n",
                            "Start -> Online Display -> Null                   25997\n",
                            "Start -> Instagram -> Null                        15659\n",
                            "Start -> Facebook -> Instagram -> Null            10470\n",
                            "Start -> Instagram -> Facebook -> Null             7467\n",
                            "Start -> Paid Search -> Conversion                 3757\n",
                            "Start -> Paid Search -> Facebook -> Null           3356\n",
                            "Start -> Paid Search -> Online Display -> Null     3101\n",
                            "Name: conversion, dtype: int64"
                        ]
                    },
                    "metadata": {},
                    "execution_count": 49
                }
            ],
            "metadata": {}
        },
        {
            "cell_type": "markdown",
            "source": [
                "## Paths with more conversions"
            ],
            "metadata": {}
        },
        {
            "cell_type": "code",
            "execution_count": 48,
            "source": [
                "df_paths[df_paths.conversion == 1].groupby('string')['conversion'].count().sort_values(ascending=False).head(10)"
            ],
            "outputs": [
                {
                    "output_type": "execute_result",
                    "data": {
                        "text/plain": [
                            "string\n",
                            "Start -> Paid Search -> Conversion                      3757\n",
                            "Start -> Facebook -> Conversion                         3001\n",
                            "Start -> Online Video -> Conversion                     2634\n",
                            "Start -> Online Display -> Conversion                   1578\n",
                            "Start -> Facebook -> Instagram -> Conversion            1345\n",
                            "Start -> Instagram -> Conversion                        1028\n",
                            "Start -> Instagram -> Facebook -> Conversion             914\n",
                            "Start -> Online Display -> Paid Search -> Conversion     271\n",
                            "Start -> Paid Search -> Online Display -> Conversion     260\n",
                            "Start -> Paid Search -> Facebook -> Conversion           253\n",
                            "Name: conversion, dtype: int64"
                        ]
                    },
                    "metadata": {},
                    "execution_count": 48
                }
            ],
            "metadata": {}
        },
        {
            "cell_type": "markdown",
            "source": [
                "# Markov Chains"
            ],
            "metadata": {}
        },
        {
            "cell_type": "code",
            "execution_count": 18,
            "source": [
                "list_of_paths = df_paths['path']\n",
                "total_conversions = sum(path.count('Conversion') for path in df_paths['path'].tolist())\n",
                "base_conversion_rate = total_conversions / len(list_of_paths)"
            ],
            "outputs": [],
            "metadata": {}
        },
        {
            "cell_type": "markdown",
            "source": [
                "## Transition states"
            ],
            "metadata": {}
        },
        {
            "cell_type": "code",
            "execution_count": 19,
            "source": [
                "def transition_states(list_of_paths):\n",
                "    list_of_unique_channels = set(x for element in list_of_paths for x in element)\n",
                "    transition_states = {x + '>' + y: 0 for x in list_of_unique_channels for y in list_of_unique_channels}\n",
                "\n",
                "    for possible_state in list_of_unique_channels:\n",
                "        if possible_state not in ['Conversion', 'Null']:\n",
                "            for user_path in list_of_paths:\n",
                "                if possible_state in user_path:\n",
                "                    indices = [i for i, s in enumerate(user_path) if possible_state in s]\n",
                "                    for col in indices:\n",
                "                        transition_states[user_path[col] + '>' + user_path[col + 1]] += 1\n",
                "\n",
                "    return transition_states\n",
                "\n",
                "\n",
                "trans_states = transition_states(list_of_paths)"
            ],
            "outputs": [],
            "metadata": {}
        },
        {
            "cell_type": "markdown",
            "source": [
                "## Transition probabilities"
            ],
            "metadata": {}
        },
        {
            "cell_type": "code",
            "execution_count": 20,
            "source": [
                "def transition_prob(trans_dict):\n",
                "    list_of_unique_channels = set(x for element in list_of_paths for x in element)\n",
                "    trans_prob = defaultdict(dict)\n",
                "    for state in list_of_unique_channels:\n",
                "        if state not in ['Conversion', 'Null']:\n",
                "            counter = 0\n",
                "            index = [i for i, s in enumerate(trans_dict) if state + '>' in s]\n",
                "            for col in index:\n",
                "                if trans_dict[list(trans_dict)[col]] > 0:\n",
                "                    counter += trans_dict[list(trans_dict)[col]]\n",
                "            for col in index:\n",
                "                if trans_dict[list(trans_dict)[col]] > 0:\n",
                "                    state_prob = float((trans_dict[list(trans_dict)[col]])) / float(counter)\n",
                "                    trans_prob[list(trans_dict)[col]] = state_prob\n",
                "\n",
                "    return trans_prob\n",
                "\n",
                "\n",
                "trans_prob = transition_prob(trans_states)"
            ],
            "outputs": [],
            "metadata": {}
        },
        {
            "cell_type": "code",
            "execution_count": 21,
            "source": [
                "def transition_matrix(list_of_paths, transition_probabilities):\n",
                "    trans_matrix = pd.DataFrame()\n",
                "    list_of_unique_channels = set(x for element in list_of_paths for x in element)\n",
                "\n",
                "    for channel in list_of_unique_channels:\n",
                "        trans_matrix[channel] = 0.00\n",
                "        trans_matrix.loc[channel] = 0.00\n",
                "        trans_matrix.loc[channel][channel] = 1.0 if channel in ['Conversion', 'Null'] else 0.0\n",
                "\n",
                "    for key, value in transition_probabilities.items():\n",
                "        origin, destination = key.split('>')\n",
                "        trans_matrix.at[origin, destination] = value\n",
                "\n",
                "    return trans_matrix\n",
                "\n",
                "\n",
                "trans_matrix = transition_matrix(list_of_paths, trans_prob)"
            ],
            "outputs": [],
            "metadata": {}
        },
        {
            "cell_type": "code",
            "execution_count": 22,
            "source": [
                "trans_matrix"
            ],
            "outputs": [
                {
                    "output_type": "execute_result",
                    "data": {
                        "text/plain": [
                            "                Paid Search  Instagram  Start      Null  Conversion  \\\n",
                            "Paid Search        0.000000   0.034196    0.0  0.770779    0.053309   \n",
                            "Instagram          0.045809   0.000000    0.0  0.629786    0.057979   \n",
                            "Start              0.317399   0.119188    0.0  0.000000    0.000000   \n",
                            "Null               0.000000   0.000000    0.0  1.000000    0.000000   \n",
                            "Conversion         0.000000   0.000000    0.0  0.000000    1.000000   \n",
                            "Online Display     0.092386   0.029363    0.0  0.756643    0.050324   \n",
                            "Facebook           0.050655   0.173072    0.0  0.673123    0.053220   \n",
                            "Online Video       0.047947   0.031908    0.0  0.763757    0.078146   \n",
                            "\n",
                            "                Online Display  Facebook  Online Video  \n",
                            "Paid Search           0.048053  0.064442      0.029221  \n",
                            "Instagram             0.023531  0.218777      0.024118  \n",
                            "Start                 0.142644  0.278408      0.142361  \n",
                            "Null                  0.000000  0.000000      0.000000  \n",
                            "Conversion            0.000000  0.000000      0.000000  \n",
                            "Online Display        0.000000  0.053986      0.017299  \n",
                            "Facebook              0.024352  0.000000      0.025577  \n",
                            "Online Video          0.018920  0.059323      0.000000  "
                        ],
                        "text/html": [
                            "<div>\n",
                            "<style scoped>\n",
                            "    .dataframe tbody tr th:only-of-type {\n",
                            "        vertical-align: middle;\n",
                            "    }\n",
                            "\n",
                            "    .dataframe tbody tr th {\n",
                            "        vertical-align: top;\n",
                            "    }\n",
                            "\n",
                            "    .dataframe thead th {\n",
                            "        text-align: right;\n",
                            "    }\n",
                            "</style>\n",
                            "<table border=\"1\" class=\"dataframe\">\n",
                            "  <thead>\n",
                            "    <tr style=\"text-align: right;\">\n",
                            "      <th></th>\n",
                            "      <th>Paid Search</th>\n",
                            "      <th>Instagram</th>\n",
                            "      <th>Start</th>\n",
                            "      <th>Null</th>\n",
                            "      <th>Conversion</th>\n",
                            "      <th>Online Display</th>\n",
                            "      <th>Facebook</th>\n",
                            "      <th>Online Video</th>\n",
                            "    </tr>\n",
                            "  </thead>\n",
                            "  <tbody>\n",
                            "    <tr>\n",
                            "      <th>Paid Search</th>\n",
                            "      <td>0.000000</td>\n",
                            "      <td>0.034196</td>\n",
                            "      <td>0.0</td>\n",
                            "      <td>0.770779</td>\n",
                            "      <td>0.053309</td>\n",
                            "      <td>0.048053</td>\n",
                            "      <td>0.064442</td>\n",
                            "      <td>0.029221</td>\n",
                            "    </tr>\n",
                            "    <tr>\n",
                            "      <th>Instagram</th>\n",
                            "      <td>0.045809</td>\n",
                            "      <td>0.000000</td>\n",
                            "      <td>0.0</td>\n",
                            "      <td>0.629786</td>\n",
                            "      <td>0.057979</td>\n",
                            "      <td>0.023531</td>\n",
                            "      <td>0.218777</td>\n",
                            "      <td>0.024118</td>\n",
                            "    </tr>\n",
                            "    <tr>\n",
                            "      <th>Start</th>\n",
                            "      <td>0.317399</td>\n",
                            "      <td>0.119188</td>\n",
                            "      <td>0.0</td>\n",
                            "      <td>0.000000</td>\n",
                            "      <td>0.000000</td>\n",
                            "      <td>0.142644</td>\n",
                            "      <td>0.278408</td>\n",
                            "      <td>0.142361</td>\n",
                            "    </tr>\n",
                            "    <tr>\n",
                            "      <th>Null</th>\n",
                            "      <td>0.000000</td>\n",
                            "      <td>0.000000</td>\n",
                            "      <td>0.0</td>\n",
                            "      <td>1.000000</td>\n",
                            "      <td>0.000000</td>\n",
                            "      <td>0.000000</td>\n",
                            "      <td>0.000000</td>\n",
                            "      <td>0.000000</td>\n",
                            "    </tr>\n",
                            "    <tr>\n",
                            "      <th>Conversion</th>\n",
                            "      <td>0.000000</td>\n",
                            "      <td>0.000000</td>\n",
                            "      <td>0.0</td>\n",
                            "      <td>0.000000</td>\n",
                            "      <td>1.000000</td>\n",
                            "      <td>0.000000</td>\n",
                            "      <td>0.000000</td>\n",
                            "      <td>0.000000</td>\n",
                            "    </tr>\n",
                            "    <tr>\n",
                            "      <th>Online Display</th>\n",
                            "      <td>0.092386</td>\n",
                            "      <td>0.029363</td>\n",
                            "      <td>0.0</td>\n",
                            "      <td>0.756643</td>\n",
                            "      <td>0.050324</td>\n",
                            "      <td>0.000000</td>\n",
                            "      <td>0.053986</td>\n",
                            "      <td>0.017299</td>\n",
                            "    </tr>\n",
                            "    <tr>\n",
                            "      <th>Facebook</th>\n",
                            "      <td>0.050655</td>\n",
                            "      <td>0.173072</td>\n",
                            "      <td>0.0</td>\n",
                            "      <td>0.673123</td>\n",
                            "      <td>0.053220</td>\n",
                            "      <td>0.024352</td>\n",
                            "      <td>0.000000</td>\n",
                            "      <td>0.025577</td>\n",
                            "    </tr>\n",
                            "    <tr>\n",
                            "      <th>Online Video</th>\n",
                            "      <td>0.047947</td>\n",
                            "      <td>0.031908</td>\n",
                            "      <td>0.0</td>\n",
                            "      <td>0.763757</td>\n",
                            "      <td>0.078146</td>\n",
                            "      <td>0.018920</td>\n",
                            "      <td>0.059323</td>\n",
                            "      <td>0.000000</td>\n",
                            "    </tr>\n",
                            "  </tbody>\n",
                            "</table>\n",
                            "</div>"
                        ]
                    },
                    "metadata": {},
                    "execution_count": 22
                }
            ],
            "metadata": {}
        },
        {
            "cell_type": "code",
            "execution_count": 23,
            "source": [
                "plt.figure(figsize=(16, 6))\n",
                "heatmap = sns.heatmap(trans_matrix.corr(), vmin=-1, vmax=1, annot=True, cmap='BrBG')\n",
                "heatmap.set_title('Correlation Heatmap', fontdict={'fontsize':18}, pad=12);"
            ],
            "outputs": [
                {
                    "output_type": "display_data",
                    "data": {
                        "text/plain": [
                            "<Figure size 1152x432 with 2 Axes>"
                        ],
                        "image/svg+xml": "<?xml version=\"1.0\" encoding=\"utf-8\" standalone=\"no\"?>\n<!DOCTYPE svg PUBLIC \"-//W3C//DTD SVG 1.1//EN\"\n  \"http://www.w3.org/Graphics/SVG/1.1/DTD/svg11.dtd\">\n<svg height=\"382.915313pt\" version=\"1.1\" viewBox=\"0 0 906.528625 382.915313\" width=\"906.528625pt\" xmlns=\"http://www.w3.org/2000/svg\" xmlns:xlink=\"http://www.w3.org/1999/xlink\">\n <metadata>\n  <rdf:RDF xmlns:cc=\"http://creativecommons.org/ns#\" xmlns:dc=\"http://purl.org/dc/elements/1.1/\" xmlns:rdf=\"http://www.w3.org/1999/02/22-rdf-syntax-ns#\">\n   <cc:Work>\n    <dc:type rdf:resource=\"http://purl.org/dc/dcmitype/StillImage\"/>\n    <dc:date>2021-08-26T19:37:37.343252</dc:date>\n    <dc:format>image/svg+xml</dc:format>\n    <dc:creator>\n     <cc:Agent>\n      <dc:title>Matplotlib v3.4.3, https://matplotlib.org/</dc:title>\n     </cc:Agent>\n    </dc:creator>\n   </cc:Work>\n  </rdf:RDF>\n </metadata>\n <defs>\n  <style type=\"text/css\">*{stroke-linecap:butt;stroke-linejoin:round;}</style>\n </defs>\n <g id=\"figure_1\">\n  <g id=\"patch_1\">\n   <path d=\"M 0 382.915313 \nL 906.528625 382.915313 \nL 906.528625 0 \nL 0 0 \nz\n\" style=\"fill:none;\"/>\n  </g>\n  <g id=\"axes_1\">\n   <g id=\"patch_2\">\n    <path d=\"M 86.495313 359.037188 \nL 800.735313 359.037188 \nL 800.735313 32.877187 \nL 86.495313 32.877187 \nz\n\" style=\"fill:#ffffff;\"/>\n   </g>\n   <g id=\"QuadMesh_1\">\n    <path clip-path=\"url(#p8eb06b86a3)\" d=\"M 86.495313 32.877187 \nL 175.775313 32.877187 \nL 175.775313 73.647188 \nL 86.495313 73.647188 \nL 86.495313 32.877187 \n\" style=\"fill:#003c30;\"/>\n    <path clip-path=\"url(#p8eb06b86a3)\" d=\"M 175.775313 32.877187 \nL 265.055313 32.877187 \nL 265.055313 73.647188 \nL 175.775313 73.647188 \nL 175.775313 32.877187 \n\" style=\"fill:#55aea5;\"/>\n    <path clip-path=\"url(#p8eb06b86a3)\" d=\"M 265.055313 32.877187 \nL 354.335313 32.877187 \nL 354.335313 73.647188 \nL 265.055313 73.647188 \nL 265.055313 32.877187 \n\" style=\"fill:none;\"/>\n    <path clip-path=\"url(#p8eb06b86a3)\" d=\"M 354.335313 32.877187 \nL 443.615313 32.877187 \nL 443.615313 73.647188 \nL 354.335313 73.647188 \nL 354.335313 32.877187 \n\" style=\"fill:#c89343;\"/>\n    <path clip-path=\"url(#p8eb06b86a3)\" d=\"M 443.615313 32.877187 \nL 532.895313 32.877187 \nL 532.895313 73.647188 \nL 443.615313 73.647188 \nL 443.615313 32.877187 \n\" style=\"fill:#ead59f;\"/>\n    <path clip-path=\"url(#p8eb06b86a3)\" d=\"M 532.895313 32.877187 \nL 622.175313 32.877187 \nL 622.175313 73.647188 \nL 532.895313 73.647188 \nL 532.895313 32.877187 \n\" style=\"fill:#01564d;\"/>\n    <path clip-path=\"url(#p8eb06b86a3)\" d=\"M 622.175313 32.877187 \nL 711.455313 32.877187 \nL 711.455313 73.647188 \nL 622.175313 73.647188 \nL 622.175313 32.877187 \n\" style=\"fill:#0a6f67;\"/>\n    <path clip-path=\"url(#p8eb06b86a3)\" d=\"M 711.455313 32.877187 \nL 800.735313 32.877187 \nL 800.735313 73.647188 \nL 711.455313 73.647188 \nL 711.455313 32.877187 \n\" style=\"fill:#00483d;\"/>\n    <path clip-path=\"url(#p8eb06b86a3)\" d=\"M 86.495313 73.647188 \nL 175.775313 73.647188 \nL 175.775313 114.417187 \nL 86.495313 114.417187 \nL 86.495313 73.647188 \n\" style=\"fill:#55aea5;\"/>\n    <path clip-path=\"url(#p8eb06b86a3)\" d=\"M 175.775313 73.647188 \nL 265.055313 73.647188 \nL 265.055313 114.417187 \nL 175.775313 114.417187 \nL 175.775313 73.647188 \n\" style=\"fill:#003c30;\"/>\n    <path clip-path=\"url(#p8eb06b86a3)\" d=\"M 265.055313 73.647188 \nL 354.335313 73.647188 \nL 354.335313 114.417187 \nL 265.055313 114.417187 \nL 265.055313 73.647188 \n\" style=\"fill:none;\"/>\n    <path clip-path=\"url(#p8eb06b86a3)\" d=\"M 354.335313 73.647188 \nL 443.615313 73.647188 \nL 443.615313 114.417187 \nL 354.335313 114.417187 \nL 354.335313 73.647188 \n\" style=\"fill:#f6e8c3;\"/>\n    <path clip-path=\"url(#p8eb06b86a3)\" d=\"M 443.615313 73.647188 \nL 532.895313 73.647188 \nL 532.895313 114.417187 \nL 443.615313 114.417187 \nL 443.615313 73.647188 \n\" style=\"fill:#e8d29a;\"/>\n    <path clip-path=\"url(#p8eb06b86a3)\" d=\"M 532.895313 73.647188 \nL 622.175313 73.647188 \nL 622.175313 114.417187 \nL 532.895313 114.417187 \nL 532.895313 73.647188 \n\" style=\"fill:#52aca3;\"/>\n    <path clip-path=\"url(#p8eb06b86a3)\" d=\"M 622.175313 73.647188 \nL 711.455313 73.647188 \nL 711.455313 114.417187 \nL 622.175313 114.417187 \nL 622.175313 73.647188 \n\" style=\"fill:#d7eeeb;\"/>\n    <path clip-path=\"url(#p8eb06b86a3)\" d=\"M 711.455313 73.647188 \nL 800.735313 73.647188 \nL 800.735313 114.417187 \nL 711.455313 114.417187 \nL 711.455313 73.647188 \n\" style=\"fill:#4aa69d;\"/>\n    <path clip-path=\"url(#p8eb06b86a3)\" d=\"M 86.495313 114.417187 \nL 175.775313 114.417187 \nL 175.775313 155.187187 \nL 86.495313 155.187187 \nL 86.495313 114.417187 \n\" style=\"fill:none;\"/>\n    <path clip-path=\"url(#p8eb06b86a3)\" d=\"M 175.775313 114.417187 \nL 265.055313 114.417187 \nL 265.055313 155.187187 \nL 175.775313 155.187187 \nL 175.775313 114.417187 \n\" style=\"fill:none;\"/>\n    <path clip-path=\"url(#p8eb06b86a3)\" d=\"M 265.055313 114.417187 \nL 354.335313 114.417187 \nL 354.335313 155.187187 \nL 265.055313 155.187187 \nL 265.055313 114.417187 \n\" style=\"fill:none;\"/>\n    <path clip-path=\"url(#p8eb06b86a3)\" d=\"M 354.335313 114.417187 \nL 443.615313 114.417187 \nL 443.615313 155.187187 \nL 354.335313 155.187187 \nL 354.335313 114.417187 \n\" style=\"fill:none;\"/>\n    <path clip-path=\"url(#p8eb06b86a3)\" d=\"M 443.615313 114.417187 \nL 532.895313 114.417187 \nL 532.895313 155.187187 \nL 443.615313 155.187187 \nL 443.615313 114.417187 \n\" style=\"fill:none;\"/>\n    <path clip-path=\"url(#p8eb06b86a3)\" d=\"M 532.895313 114.417187 \nL 622.175313 114.417187 \nL 622.175313 155.187187 \nL 532.895313 155.187187 \nL 532.895313 114.417187 \n\" style=\"fill:none;\"/>\n    <path clip-path=\"url(#p8eb06b86a3)\" d=\"M 622.175313 114.417187 \nL 711.455313 114.417187 \nL 711.455313 155.187187 \nL 622.175313 155.187187 \nL 622.175313 114.417187 \n\" style=\"fill:none;\"/>\n    <path clip-path=\"url(#p8eb06b86a3)\" d=\"M 711.455313 114.417187 \nL 800.735313 114.417187 \nL 800.735313 155.187187 \nL 711.455313 155.187187 \nL 711.455313 114.417187 \n\" style=\"fill:none;\"/>\n    <path clip-path=\"url(#p8eb06b86a3)\" d=\"M 86.495313 155.187187 \nL 175.775313 155.187187 \nL 175.775313 195.957188 \nL 86.495313 195.957188 \nL 86.495313 155.187187 \n\" style=\"fill:#c89343;\"/>\n    <path clip-path=\"url(#p8eb06b86a3)\" d=\"M 175.775313 155.187187 \nL 265.055313 155.187187 \nL 265.055313 195.957188 \nL 175.775313 195.957188 \nL 175.775313 155.187187 \n\" style=\"fill:#f6e8c3;\"/>\n    <path clip-path=\"url(#p8eb06b86a3)\" d=\"M 265.055313 155.187187 \nL 354.335313 155.187187 \nL 354.335313 195.957188 \nL 265.055313 195.957188 \nL 265.055313 155.187187 \n\" style=\"fill:none;\"/>\n    <path clip-path=\"url(#p8eb06b86a3)\" d=\"M 354.335313 155.187187 \nL 443.615313 155.187187 \nL 443.615313 195.957188 \nL 354.335313 195.957188 \nL 354.335313 155.187187 \n\" style=\"fill:#003c30;\"/>\n    <path clip-path=\"url(#p8eb06b86a3)\" d=\"M 443.615313 155.187187 \nL 532.895313 155.187187 \nL 532.895313 195.957188 \nL 443.615313 195.957188 \nL 443.615313 155.187187 \n\" style=\"fill:#bd7f2c;\"/>\n    <path clip-path=\"url(#p8eb06b86a3)\" d=\"M 532.895313 155.187187 \nL 622.175313 155.187187 \nL 622.175313 195.957188 \nL 532.895313 195.957188 \nL 532.895313 155.187187 \n\" style=\"fill:#ca9849;\"/>\n    <path clip-path=\"url(#p8eb06b86a3)\" d=\"M 622.175313 155.187187 \nL 711.455313 155.187187 \nL 711.455313 195.957188 \nL 622.175313 195.957188 \nL 622.175313 155.187187 \n\" style=\"fill:#ddbe78;\"/>\n    <path clip-path=\"url(#p8eb06b86a3)\" d=\"M 711.455313 155.187187 \nL 800.735313 155.187187 \nL 800.735313 195.957188 \nL 711.455313 195.957188 \nL 711.455313 155.187187 \n\" style=\"fill:#c48b3a;\"/>\n    <path clip-path=\"url(#p8eb06b86a3)\" d=\"M 86.495313 195.957188 \nL 175.775313 195.957188 \nL 175.775313 236.727188 \nL 86.495313 236.727188 \nL 86.495313 195.957188 \n\" style=\"fill:#ead59f;\"/>\n    <path clip-path=\"url(#p8eb06b86a3)\" d=\"M 175.775313 195.957188 \nL 265.055313 195.957188 \nL 265.055313 236.727188 \nL 175.775313 236.727188 \nL 175.775313 195.957188 \n\" style=\"fill:#e8d29a;\"/>\n    <path clip-path=\"url(#p8eb06b86a3)\" d=\"M 265.055313 195.957188 \nL 354.335313 195.957188 \nL 354.335313 236.727188 \nL 265.055313 236.727188 \nL 265.055313 195.957188 \n\" style=\"fill:none;\"/>\n    <path clip-path=\"url(#p8eb06b86a3)\" d=\"M 354.335313 195.957188 \nL 443.615313 195.957188 \nL 443.615313 236.727188 \nL 354.335313 236.727188 \nL 354.335313 195.957188 \n\" style=\"fill:#bd7f2c;\"/>\n    <path clip-path=\"url(#p8eb06b86a3)\" d=\"M 443.615313 195.957188 \nL 532.895313 195.957188 \nL 532.895313 236.727188 \nL 443.615313 236.727188 \nL 443.615313 195.957188 \n\" style=\"fill:#003c30;\"/>\n    <path clip-path=\"url(#p8eb06b86a3)\" d=\"M 532.895313 195.957188 \nL 622.175313 195.957188 \nL 622.175313 236.727188 \nL 532.895313 236.727188 \nL 532.895313 195.957188 \n\" style=\"fill:#e9d39d;\"/>\n    <path clip-path=\"url(#p8eb06b86a3)\" d=\"M 622.175313 195.957188 \nL 711.455313 195.957188 \nL 711.455313 236.727188 \nL 622.175313 236.727188 \nL 622.175313 195.957188 \n\" style=\"fill:#e6cd92;\"/>\n    <path clip-path=\"url(#p8eb06b86a3)\" d=\"M 711.455313 195.957188 \nL 800.735313 195.957188 \nL 800.735313 236.727188 \nL 711.455313 236.727188 \nL 711.455313 195.957188 \n\" style=\"fill:#ead59f;\"/>\n    <path clip-path=\"url(#p8eb06b86a3)\" d=\"M 86.495313 236.727188 \nL 175.775313 236.727188 \nL 175.775313 277.497187 \nL 86.495313 277.497187 \nL 86.495313 236.727188 \n\" style=\"fill:#01564d;\"/>\n    <path clip-path=\"url(#p8eb06b86a3)\" d=\"M 175.775313 236.727188 \nL 265.055313 236.727188 \nL 265.055313 277.497187 \nL 175.775313 277.497187 \nL 175.775313 236.727188 \n\" style=\"fill:#52aca3;\"/>\n    <path clip-path=\"url(#p8eb06b86a3)\" d=\"M 265.055313 236.727188 \nL 354.335313 236.727188 \nL 354.335313 277.497187 \nL 265.055313 277.497187 \nL 265.055313 236.727188 \n\" style=\"fill:none;\"/>\n    <path clip-path=\"url(#p8eb06b86a3)\" d=\"M 354.335313 236.727188 \nL 443.615313 236.727188 \nL 443.615313 277.497187 \nL 354.335313 277.497187 \nL 354.335313 236.727188 \n\" style=\"fill:#ca9849;\"/>\n    <path clip-path=\"url(#p8eb06b86a3)\" d=\"M 443.615313 236.727188 \nL 532.895313 236.727188 \nL 532.895313 277.497187 \nL 443.615313 277.497187 \nL 443.615313 236.727188 \n\" style=\"fill:#e9d39d;\"/>\n    <path clip-path=\"url(#p8eb06b86a3)\" d=\"M 532.895313 236.727188 \nL 622.175313 236.727188 \nL 622.175313 277.497187 \nL 532.895313 277.497187 \nL 532.895313 236.727188 \n\" style=\"fill:#003c30;\"/>\n    <path clip-path=\"url(#p8eb06b86a3)\" d=\"M 622.175313 236.727188 \nL 711.455313 236.727188 \nL 711.455313 277.497187 \nL 622.175313 277.497187 \nL 622.175313 236.727188 \n\" style=\"fill:#086d65;\"/>\n    <path clip-path=\"url(#p8eb06b86a3)\" d=\"M 711.455313 236.727188 \nL 800.735313 236.727188 \nL 800.735313 277.497187 \nL 711.455313 277.497187 \nL 711.455313 236.727188 \n\" style=\"fill:#004135;\"/>\n    <path clip-path=\"url(#p8eb06b86a3)\" d=\"M 86.495313 277.497187 \nL 175.775313 277.497187 \nL 175.775313 318.267188 \nL 86.495313 318.267188 \nL 86.495313 277.497187 \n\" style=\"fill:#0a6f67;\"/>\n    <path clip-path=\"url(#p8eb06b86a3)\" d=\"M 175.775313 277.497187 \nL 265.055313 277.497187 \nL 265.055313 318.267188 \nL 175.775313 318.267188 \nL 175.775313 277.497187 \n\" style=\"fill:#d7eeeb;\"/>\n    <path clip-path=\"url(#p8eb06b86a3)\" d=\"M 265.055313 277.497187 \nL 354.335313 277.497187 \nL 354.335313 318.267188 \nL 265.055313 318.267188 \nL 265.055313 277.497187 \n\" style=\"fill:none;\"/>\n    <path clip-path=\"url(#p8eb06b86a3)\" d=\"M 354.335313 277.497187 \nL 443.615313 277.497187 \nL 443.615313 318.267188 \nL 354.335313 318.267188 \nL 354.335313 277.497187 \n\" style=\"fill:#ddbe78;\"/>\n    <path clip-path=\"url(#p8eb06b86a3)\" d=\"M 443.615313 277.497187 \nL 532.895313 277.497187 \nL 532.895313 318.267188 \nL 443.615313 318.267188 \nL 443.615313 277.497187 \n\" style=\"fill:#e6cd92;\"/>\n    <path clip-path=\"url(#p8eb06b86a3)\" d=\"M 532.895313 277.497187 \nL 622.175313 277.497187 \nL 622.175313 318.267188 \nL 532.895313 318.267188 \nL 532.895313 277.497187 \n\" style=\"fill:#086d65;\"/>\n    <path clip-path=\"url(#p8eb06b86a3)\" d=\"M 622.175313 277.497187 \nL 711.455313 277.497187 \nL 711.455313 318.267188 \nL 622.175313 318.267188 \nL 622.175313 277.497187 \n\" style=\"fill:#003c30;\"/>\n    <path clip-path=\"url(#p8eb06b86a3)\" d=\"M 711.455313 277.497187 \nL 800.735313 277.497187 \nL 800.735313 318.267188 \nL 711.455313 318.267188 \nL 711.455313 277.497187 \n\" style=\"fill:#046961;\"/>\n    <path clip-path=\"url(#p8eb06b86a3)\" d=\"M 86.495313 318.267188 \nL 175.775313 318.267188 \nL 175.775313 359.037188 \nL 86.495313 359.037188 \nL 86.495313 318.267188 \n\" style=\"fill:#00483d;\"/>\n    <path clip-path=\"url(#p8eb06b86a3)\" d=\"M 175.775313 318.267188 \nL 265.055313 318.267188 \nL 265.055313 359.037188 \nL 175.775313 359.037188 \nL 175.775313 318.267188 \n\" style=\"fill:#4aa69d;\"/>\n    <path clip-path=\"url(#p8eb06b86a3)\" d=\"M 265.055313 318.267188 \nL 354.335313 318.267188 \nL 354.335313 359.037188 \nL 265.055313 359.037188 \nL 265.055313 318.267188 \n\" style=\"fill:none;\"/>\n    <path clip-path=\"url(#p8eb06b86a3)\" d=\"M 354.335313 318.267188 \nL 443.615313 318.267188 \nL 443.615313 359.037188 \nL 354.335313 359.037188 \nL 354.335313 318.267188 \n\" style=\"fill:#c48b3a;\"/>\n    <path clip-path=\"url(#p8eb06b86a3)\" d=\"M 443.615313 318.267188 \nL 532.895313 318.267188 \nL 532.895313 359.037188 \nL 443.615313 359.037188 \nL 443.615313 318.267188 \n\" style=\"fill:#ead59f;\"/>\n    <path clip-path=\"url(#p8eb06b86a3)\" d=\"M 532.895313 318.267188 \nL 622.175313 318.267188 \nL 622.175313 359.037188 \nL 532.895313 359.037188 \nL 532.895313 318.267188 \n\" style=\"fill:#004135;\"/>\n    <path clip-path=\"url(#p8eb06b86a3)\" d=\"M 622.175313 318.267188 \nL 711.455313 318.267188 \nL 711.455313 359.037188 \nL 622.175313 359.037188 \nL 622.175313 318.267188 \n\" style=\"fill:#046961;\"/>\n    <path clip-path=\"url(#p8eb06b86a3)\" d=\"M 711.455313 318.267188 \nL 800.735313 318.267188 \nL 800.735313 359.037188 \nL 711.455313 359.037188 \nL 711.455313 318.267188 \n\" style=\"fill:#003c30;\"/>\n   </g>\n   <g id=\"matplotlib.axis_1\">\n    <g id=\"xtick_1\">\n     <g id=\"line2d_1\">\n      <defs>\n       <path d=\"M 0 0 \nL 0 3.5 \n\" id=\"m4f5f3777c1\" style=\"stroke:#000000;stroke-width:0.8;\"/>\n      </defs>\n      <g>\n       <use style=\"stroke:#000000;stroke-width:0.8;\" x=\"131.135313\" xlink:href=\"#m4f5f3777c1\" y=\"359.037188\"/>\n      </g>\n     </g>\n     <g id=\"text_1\">\n      <!-- Paid Search -->\n      <g transform=\"translate(101.953281 373.635625)scale(0.1 -0.1)\">\n       <defs>\n        <path d=\"M 1259 4147 \nL 1259 2394 \nL 2053 2394 \nQ 2494 2394 2734 2622 \nQ 2975 2850 2975 3272 \nQ 2975 3691 2734 3919 \nQ 2494 4147 2053 4147 \nL 1259 4147 \nz\nM 628 4666 \nL 2053 4666 \nQ 2838 4666 3239 4311 \nQ 3641 3956 3641 3272 \nQ 3641 2581 3239 2228 \nQ 2838 1875 2053 1875 \nL 1259 1875 \nL 1259 0 \nL 628 0 \nL 628 4666 \nz\n\" id=\"DejaVuSans-50\" transform=\"scale(0.015625)\"/>\n        <path d=\"M 2194 1759 \nQ 1497 1759 1228 1600 \nQ 959 1441 959 1056 \nQ 959 750 1161 570 \nQ 1363 391 1709 391 \nQ 2188 391 2477 730 \nQ 2766 1069 2766 1631 \nL 2766 1759 \nL 2194 1759 \nz\nM 3341 1997 \nL 3341 0 \nL 2766 0 \nL 2766 531 \nQ 2569 213 2275 61 \nQ 1981 -91 1556 -91 \nQ 1019 -91 701 211 \nQ 384 513 384 1019 \nQ 384 1609 779 1909 \nQ 1175 2209 1959 2209 \nL 2766 2209 \nL 2766 2266 \nQ 2766 2663 2505 2880 \nQ 2244 3097 1772 3097 \nQ 1472 3097 1187 3025 \nQ 903 2953 641 2809 \nL 641 3341 \nQ 956 3463 1253 3523 \nQ 1550 3584 1831 3584 \nQ 2591 3584 2966 3190 \nQ 3341 2797 3341 1997 \nz\n\" id=\"DejaVuSans-61\" transform=\"scale(0.015625)\"/>\n        <path d=\"M 603 3500 \nL 1178 3500 \nL 1178 0 \nL 603 0 \nL 603 3500 \nz\nM 603 4863 \nL 1178 4863 \nL 1178 4134 \nL 603 4134 \nL 603 4863 \nz\n\" id=\"DejaVuSans-69\" transform=\"scale(0.015625)\"/>\n        <path d=\"M 2906 2969 \nL 2906 4863 \nL 3481 4863 \nL 3481 0 \nL 2906 0 \nL 2906 525 \nQ 2725 213 2448 61 \nQ 2172 -91 1784 -91 \nQ 1150 -91 751 415 \nQ 353 922 353 1747 \nQ 353 2572 751 3078 \nQ 1150 3584 1784 3584 \nQ 2172 3584 2448 3432 \nQ 2725 3281 2906 2969 \nz\nM 947 1747 \nQ 947 1113 1208 752 \nQ 1469 391 1925 391 \nQ 2381 391 2643 752 \nQ 2906 1113 2906 1747 \nQ 2906 2381 2643 2742 \nQ 2381 3103 1925 3103 \nQ 1469 3103 1208 2742 \nQ 947 2381 947 1747 \nz\n\" id=\"DejaVuSans-64\" transform=\"scale(0.015625)\"/>\n        <path id=\"DejaVuSans-20\" transform=\"scale(0.015625)\"/>\n        <path d=\"M 3425 4513 \nL 3425 3897 \nQ 3066 4069 2747 4153 \nQ 2428 4238 2131 4238 \nQ 1616 4238 1336 4038 \nQ 1056 3838 1056 3469 \nQ 1056 3159 1242 3001 \nQ 1428 2844 1947 2747 \nL 2328 2669 \nQ 3034 2534 3370 2195 \nQ 3706 1856 3706 1288 \nQ 3706 609 3251 259 \nQ 2797 -91 1919 -91 \nQ 1588 -91 1214 -16 \nQ 841 59 441 206 \nL 441 856 \nQ 825 641 1194 531 \nQ 1563 422 1919 422 \nQ 2459 422 2753 634 \nQ 3047 847 3047 1241 \nQ 3047 1584 2836 1778 \nQ 2625 1972 2144 2069 \nL 1759 2144 \nQ 1053 2284 737 2584 \nQ 422 2884 422 3419 \nQ 422 4038 858 4394 \nQ 1294 4750 2059 4750 \nQ 2388 4750 2728 4690 \nQ 3069 4631 3425 4513 \nz\n\" id=\"DejaVuSans-53\" transform=\"scale(0.015625)\"/>\n        <path d=\"M 3597 1894 \nL 3597 1613 \nL 953 1613 \nQ 991 1019 1311 708 \nQ 1631 397 2203 397 \nQ 2534 397 2845 478 \nQ 3156 559 3463 722 \nL 3463 178 \nQ 3153 47 2828 -22 \nQ 2503 -91 2169 -91 \nQ 1331 -91 842 396 \nQ 353 884 353 1716 \nQ 353 2575 817 3079 \nQ 1281 3584 2069 3584 \nQ 2775 3584 3186 3129 \nQ 3597 2675 3597 1894 \nz\nM 3022 2063 \nQ 3016 2534 2758 2815 \nQ 2500 3097 2075 3097 \nQ 1594 3097 1305 2825 \nQ 1016 2553 972 2059 \nL 3022 2063 \nz\n\" id=\"DejaVuSans-65\" transform=\"scale(0.015625)\"/>\n        <path d=\"M 2631 2963 \nQ 2534 3019 2420 3045 \nQ 2306 3072 2169 3072 \nQ 1681 3072 1420 2755 \nQ 1159 2438 1159 1844 \nL 1159 0 \nL 581 0 \nL 581 3500 \nL 1159 3500 \nL 1159 2956 \nQ 1341 3275 1631 3429 \nQ 1922 3584 2338 3584 \nQ 2397 3584 2469 3576 \nQ 2541 3569 2628 3553 \nL 2631 2963 \nz\n\" id=\"DejaVuSans-72\" transform=\"scale(0.015625)\"/>\n        <path d=\"M 3122 3366 \nL 3122 2828 \nQ 2878 2963 2633 3030 \nQ 2388 3097 2138 3097 \nQ 1578 3097 1268 2742 \nQ 959 2388 959 1747 \nQ 959 1106 1268 751 \nQ 1578 397 2138 397 \nQ 2388 397 2633 464 \nQ 2878 531 3122 666 \nL 3122 134 \nQ 2881 22 2623 -34 \nQ 2366 -91 2075 -91 \nQ 1284 -91 818 406 \nQ 353 903 353 1747 \nQ 353 2603 823 3093 \nQ 1294 3584 2113 3584 \nQ 2378 3584 2631 3529 \nQ 2884 3475 3122 3366 \nz\n\" id=\"DejaVuSans-63\" transform=\"scale(0.015625)\"/>\n        <path d=\"M 3513 2113 \nL 3513 0 \nL 2938 0 \nL 2938 2094 \nQ 2938 2591 2744 2837 \nQ 2550 3084 2163 3084 \nQ 1697 3084 1428 2787 \nQ 1159 2491 1159 1978 \nL 1159 0 \nL 581 0 \nL 581 4863 \nL 1159 4863 \nL 1159 2956 \nQ 1366 3272 1645 3428 \nQ 1925 3584 2291 3584 \nQ 2894 3584 3203 3211 \nQ 3513 2838 3513 2113 \nz\n\" id=\"DejaVuSans-68\" transform=\"scale(0.015625)\"/>\n       </defs>\n       <use xlink:href=\"#DejaVuSans-50\"/>\n       <use x=\"55.802734\" xlink:href=\"#DejaVuSans-61\"/>\n       <use x=\"117.082031\" xlink:href=\"#DejaVuSans-69\"/>\n       <use x=\"144.865234\" xlink:href=\"#DejaVuSans-64\"/>\n       <use x=\"208.341797\" xlink:href=\"#DejaVuSans-20\"/>\n       <use x=\"240.128906\" xlink:href=\"#DejaVuSans-53\"/>\n       <use x=\"303.605469\" xlink:href=\"#DejaVuSans-65\"/>\n       <use x=\"365.128906\" xlink:href=\"#DejaVuSans-61\"/>\n       <use x=\"426.408203\" xlink:href=\"#DejaVuSans-72\"/>\n       <use x=\"465.271484\" xlink:href=\"#DejaVuSans-63\"/>\n       <use x=\"520.251953\" xlink:href=\"#DejaVuSans-68\"/>\n      </g>\n     </g>\n    </g>\n    <g id=\"xtick_2\">\n     <g id=\"line2d_2\">\n      <g>\n       <use style=\"stroke:#000000;stroke-width:0.8;\" x=\"220.415313\" xlink:href=\"#m4f5f3777c1\" y=\"359.037188\"/>\n      </g>\n     </g>\n     <g id=\"text_2\">\n      <!-- Instagram -->\n      <g transform=\"translate(194.978594 373.635625)scale(0.1 -0.1)\">\n       <defs>\n        <path d=\"M 628 4666 \nL 1259 4666 \nL 1259 0 \nL 628 0 \nL 628 4666 \nz\n\" id=\"DejaVuSans-49\" transform=\"scale(0.015625)\"/>\n        <path d=\"M 3513 2113 \nL 3513 0 \nL 2938 0 \nL 2938 2094 \nQ 2938 2591 2744 2837 \nQ 2550 3084 2163 3084 \nQ 1697 3084 1428 2787 \nQ 1159 2491 1159 1978 \nL 1159 0 \nL 581 0 \nL 581 3500 \nL 1159 3500 \nL 1159 2956 \nQ 1366 3272 1645 3428 \nQ 1925 3584 2291 3584 \nQ 2894 3584 3203 3211 \nQ 3513 2838 3513 2113 \nz\n\" id=\"DejaVuSans-6e\" transform=\"scale(0.015625)\"/>\n        <path d=\"M 2834 3397 \nL 2834 2853 \nQ 2591 2978 2328 3040 \nQ 2066 3103 1784 3103 \nQ 1356 3103 1142 2972 \nQ 928 2841 928 2578 \nQ 928 2378 1081 2264 \nQ 1234 2150 1697 2047 \nL 1894 2003 \nQ 2506 1872 2764 1633 \nQ 3022 1394 3022 966 \nQ 3022 478 2636 193 \nQ 2250 -91 1575 -91 \nQ 1294 -91 989 -36 \nQ 684 19 347 128 \nL 347 722 \nQ 666 556 975 473 \nQ 1284 391 1588 391 \nQ 1994 391 2212 530 \nQ 2431 669 2431 922 \nQ 2431 1156 2273 1281 \nQ 2116 1406 1581 1522 \nL 1381 1569 \nQ 847 1681 609 1914 \nQ 372 2147 372 2553 \nQ 372 3047 722 3315 \nQ 1072 3584 1716 3584 \nQ 2034 3584 2315 3537 \nQ 2597 3491 2834 3397 \nz\n\" id=\"DejaVuSans-73\" transform=\"scale(0.015625)\"/>\n        <path d=\"M 1172 4494 \nL 1172 3500 \nL 2356 3500 \nL 2356 3053 \nL 1172 3053 \nL 1172 1153 \nQ 1172 725 1289 603 \nQ 1406 481 1766 481 \nL 2356 481 \nL 2356 0 \nL 1766 0 \nQ 1100 0 847 248 \nQ 594 497 594 1153 \nL 594 3053 \nL 172 3053 \nL 172 3500 \nL 594 3500 \nL 594 4494 \nL 1172 4494 \nz\n\" id=\"DejaVuSans-74\" transform=\"scale(0.015625)\"/>\n        <path d=\"M 2906 1791 \nQ 2906 2416 2648 2759 \nQ 2391 3103 1925 3103 \nQ 1463 3103 1205 2759 \nQ 947 2416 947 1791 \nQ 947 1169 1205 825 \nQ 1463 481 1925 481 \nQ 2391 481 2648 825 \nQ 2906 1169 2906 1791 \nz\nM 3481 434 \nQ 3481 -459 3084 -895 \nQ 2688 -1331 1869 -1331 \nQ 1566 -1331 1297 -1286 \nQ 1028 -1241 775 -1147 \nL 775 -588 \nQ 1028 -725 1275 -790 \nQ 1522 -856 1778 -856 \nQ 2344 -856 2625 -561 \nQ 2906 -266 2906 331 \nL 2906 616 \nQ 2728 306 2450 153 \nQ 2172 0 1784 0 \nQ 1141 0 747 490 \nQ 353 981 353 1791 \nQ 353 2603 747 3093 \nQ 1141 3584 1784 3584 \nQ 2172 3584 2450 3431 \nQ 2728 3278 2906 2969 \nL 2906 3500 \nL 3481 3500 \nL 3481 434 \nz\n\" id=\"DejaVuSans-67\" transform=\"scale(0.015625)\"/>\n        <path d=\"M 3328 2828 \nQ 3544 3216 3844 3400 \nQ 4144 3584 4550 3584 \nQ 5097 3584 5394 3201 \nQ 5691 2819 5691 2113 \nL 5691 0 \nL 5113 0 \nL 5113 2094 \nQ 5113 2597 4934 2840 \nQ 4756 3084 4391 3084 \nQ 3944 3084 3684 2787 \nQ 3425 2491 3425 1978 \nL 3425 0 \nL 2847 0 \nL 2847 2094 \nQ 2847 2600 2669 2842 \nQ 2491 3084 2119 3084 \nQ 1678 3084 1418 2786 \nQ 1159 2488 1159 1978 \nL 1159 0 \nL 581 0 \nL 581 3500 \nL 1159 3500 \nL 1159 2956 \nQ 1356 3278 1631 3431 \nQ 1906 3584 2284 3584 \nQ 2666 3584 2933 3390 \nQ 3200 3197 3328 2828 \nz\n\" id=\"DejaVuSans-6d\" transform=\"scale(0.015625)\"/>\n       </defs>\n       <use xlink:href=\"#DejaVuSans-49\"/>\n       <use x=\"29.492188\" xlink:href=\"#DejaVuSans-6e\"/>\n       <use x=\"92.871094\" xlink:href=\"#DejaVuSans-73\"/>\n       <use x=\"144.970703\" xlink:href=\"#DejaVuSans-74\"/>\n       <use x=\"184.179688\" xlink:href=\"#DejaVuSans-61\"/>\n       <use x=\"245.458984\" xlink:href=\"#DejaVuSans-67\"/>\n       <use x=\"308.935547\" xlink:href=\"#DejaVuSans-72\"/>\n       <use x=\"350.048828\" xlink:href=\"#DejaVuSans-61\"/>\n       <use x=\"411.328125\" xlink:href=\"#DejaVuSans-6d\"/>\n      </g>\n     </g>\n    </g>\n    <g id=\"xtick_3\">\n     <g id=\"line2d_3\">\n      <g>\n       <use style=\"stroke:#000000;stroke-width:0.8;\" x=\"309.695313\" xlink:href=\"#m4f5f3777c1\" y=\"359.037188\"/>\n      </g>\n     </g>\n     <g id=\"text_3\">\n      <!-- Start -->\n      <g transform=\"translate(297.48125 373.635625)scale(0.1 -0.1)\">\n       <use xlink:href=\"#DejaVuSans-53\"/>\n       <use x=\"63.476562\" xlink:href=\"#DejaVuSans-74\"/>\n       <use x=\"102.685547\" xlink:href=\"#DejaVuSans-61\"/>\n       <use x=\"163.964844\" xlink:href=\"#DejaVuSans-72\"/>\n       <use x=\"205.078125\" xlink:href=\"#DejaVuSans-74\"/>\n      </g>\n     </g>\n    </g>\n    <g id=\"xtick_4\">\n     <g id=\"line2d_4\">\n      <g>\n       <use style=\"stroke:#000000;stroke-width:0.8;\" x=\"398.975313\" xlink:href=\"#m4f5f3777c1\" y=\"359.037188\"/>\n      </g>\n     </g>\n     <g id=\"text_4\">\n      <!-- Null -->\n      <g transform=\"translate(389.287813 373.635625)scale(0.1 -0.1)\">\n       <defs>\n        <path d=\"M 628 4666 \nL 1478 4666 \nL 3547 763 \nL 3547 4666 \nL 4159 4666 \nL 4159 0 \nL 3309 0 \nL 1241 3903 \nL 1241 0 \nL 628 0 \nL 628 4666 \nz\n\" id=\"DejaVuSans-4e\" transform=\"scale(0.015625)\"/>\n        <path d=\"M 544 1381 \nL 544 3500 \nL 1119 3500 \nL 1119 1403 \nQ 1119 906 1312 657 \nQ 1506 409 1894 409 \nQ 2359 409 2629 706 \nQ 2900 1003 2900 1516 \nL 2900 3500 \nL 3475 3500 \nL 3475 0 \nL 2900 0 \nL 2900 538 \nQ 2691 219 2414 64 \nQ 2138 -91 1772 -91 \nQ 1169 -91 856 284 \nQ 544 659 544 1381 \nz\nM 1991 3584 \nL 1991 3584 \nz\n\" id=\"DejaVuSans-75\" transform=\"scale(0.015625)\"/>\n        <path d=\"M 603 4863 \nL 1178 4863 \nL 1178 0 \nL 603 0 \nL 603 4863 \nz\n\" id=\"DejaVuSans-6c\" transform=\"scale(0.015625)\"/>\n       </defs>\n       <use xlink:href=\"#DejaVuSans-4e\"/>\n       <use x=\"74.804688\" xlink:href=\"#DejaVuSans-75\"/>\n       <use x=\"138.183594\" xlink:href=\"#DejaVuSans-6c\"/>\n       <use x=\"165.966797\" xlink:href=\"#DejaVuSans-6c\"/>\n      </g>\n     </g>\n    </g>\n    <g id=\"xtick_5\">\n     <g id=\"line2d_5\">\n      <g>\n       <use style=\"stroke:#000000;stroke-width:0.8;\" x=\"488.255313\" xlink:href=\"#m4f5f3777c1\" y=\"359.037188\"/>\n      </g>\n     </g>\n     <g id=\"text_5\">\n      <!-- Conversion -->\n      <g transform=\"translate(460.2225 373.635625)scale(0.1 -0.1)\">\n       <defs>\n        <path d=\"M 4122 4306 \nL 4122 3641 \nQ 3803 3938 3442 4084 \nQ 3081 4231 2675 4231 \nQ 1875 4231 1450 3742 \nQ 1025 3253 1025 2328 \nQ 1025 1406 1450 917 \nQ 1875 428 2675 428 \nQ 3081 428 3442 575 \nQ 3803 722 4122 1019 \nL 4122 359 \nQ 3791 134 3420 21 \nQ 3050 -91 2638 -91 \nQ 1578 -91 968 557 \nQ 359 1206 359 2328 \nQ 359 3453 968 4101 \nQ 1578 4750 2638 4750 \nQ 3056 4750 3426 4639 \nQ 3797 4528 4122 4306 \nz\n\" id=\"DejaVuSans-43\" transform=\"scale(0.015625)\"/>\n        <path d=\"M 1959 3097 \nQ 1497 3097 1228 2736 \nQ 959 2375 959 1747 \nQ 959 1119 1226 758 \nQ 1494 397 1959 397 \nQ 2419 397 2687 759 \nQ 2956 1122 2956 1747 \nQ 2956 2369 2687 2733 \nQ 2419 3097 1959 3097 \nz\nM 1959 3584 \nQ 2709 3584 3137 3096 \nQ 3566 2609 3566 1747 \nQ 3566 888 3137 398 \nQ 2709 -91 1959 -91 \nQ 1206 -91 779 398 \nQ 353 888 353 1747 \nQ 353 2609 779 3096 \nQ 1206 3584 1959 3584 \nz\n\" id=\"DejaVuSans-6f\" transform=\"scale(0.015625)\"/>\n        <path d=\"M 191 3500 \nL 800 3500 \nL 1894 563 \nL 2988 3500 \nL 3597 3500 \nL 2284 0 \nL 1503 0 \nL 191 3500 \nz\n\" id=\"DejaVuSans-76\" transform=\"scale(0.015625)\"/>\n       </defs>\n       <use xlink:href=\"#DejaVuSans-43\"/>\n       <use x=\"69.824219\" xlink:href=\"#DejaVuSans-6f\"/>\n       <use x=\"131.005859\" xlink:href=\"#DejaVuSans-6e\"/>\n       <use x=\"194.384766\" xlink:href=\"#DejaVuSans-76\"/>\n       <use x=\"253.564453\" xlink:href=\"#DejaVuSans-65\"/>\n       <use x=\"315.087891\" xlink:href=\"#DejaVuSans-72\"/>\n       <use x=\"356.201172\" xlink:href=\"#DejaVuSans-73\"/>\n       <use x=\"408.300781\" xlink:href=\"#DejaVuSans-69\"/>\n       <use x=\"436.083984\" xlink:href=\"#DejaVuSans-6f\"/>\n       <use x=\"497.265625\" xlink:href=\"#DejaVuSans-6e\"/>\n      </g>\n     </g>\n    </g>\n    <g id=\"xtick_6\">\n     <g id=\"line2d_6\">\n      <g>\n       <use style=\"stroke:#000000;stroke-width:0.8;\" x=\"577.535313\" xlink:href=\"#m4f5f3777c1\" y=\"359.037188\"/>\n      </g>\n     </g>\n     <g id=\"text_6\">\n      <!-- Online Display -->\n      <g transform=\"translate(541.387656 373.635625)scale(0.1 -0.1)\">\n       <defs>\n        <path d=\"M 2522 4238 \nQ 1834 4238 1429 3725 \nQ 1025 3213 1025 2328 \nQ 1025 1447 1429 934 \nQ 1834 422 2522 422 \nQ 3209 422 3611 934 \nQ 4013 1447 4013 2328 \nQ 4013 3213 3611 3725 \nQ 3209 4238 2522 4238 \nz\nM 2522 4750 \nQ 3503 4750 4090 4092 \nQ 4678 3434 4678 2328 \nQ 4678 1225 4090 567 \nQ 3503 -91 2522 -91 \nQ 1538 -91 948 565 \nQ 359 1222 359 2328 \nQ 359 3434 948 4092 \nQ 1538 4750 2522 4750 \nz\n\" id=\"DejaVuSans-4f\" transform=\"scale(0.015625)\"/>\n        <path d=\"M 1259 4147 \nL 1259 519 \nL 2022 519 \nQ 2988 519 3436 956 \nQ 3884 1394 3884 2338 \nQ 3884 3275 3436 3711 \nQ 2988 4147 2022 4147 \nL 1259 4147 \nz\nM 628 4666 \nL 1925 4666 \nQ 3281 4666 3915 4102 \nQ 4550 3538 4550 2338 \nQ 4550 1131 3912 565 \nQ 3275 0 1925 0 \nL 628 0 \nL 628 4666 \nz\n\" id=\"DejaVuSans-44\" transform=\"scale(0.015625)\"/>\n        <path d=\"M 1159 525 \nL 1159 -1331 \nL 581 -1331 \nL 581 3500 \nL 1159 3500 \nL 1159 2969 \nQ 1341 3281 1617 3432 \nQ 1894 3584 2278 3584 \nQ 2916 3584 3314 3078 \nQ 3713 2572 3713 1747 \nQ 3713 922 3314 415 \nQ 2916 -91 2278 -91 \nQ 1894 -91 1617 61 \nQ 1341 213 1159 525 \nz\nM 3116 1747 \nQ 3116 2381 2855 2742 \nQ 2594 3103 2138 3103 \nQ 1681 3103 1420 2742 \nQ 1159 2381 1159 1747 \nQ 1159 1113 1420 752 \nQ 1681 391 2138 391 \nQ 2594 391 2855 752 \nQ 3116 1113 3116 1747 \nz\n\" id=\"DejaVuSans-70\" transform=\"scale(0.015625)\"/>\n        <path d=\"M 2059 -325 \nQ 1816 -950 1584 -1140 \nQ 1353 -1331 966 -1331 \nL 506 -1331 \nL 506 -850 \nL 844 -850 \nQ 1081 -850 1212 -737 \nQ 1344 -625 1503 -206 \nL 1606 56 \nL 191 3500 \nL 800 3500 \nL 1894 763 \nL 2988 3500 \nL 3597 3500 \nL 2059 -325 \nz\n\" id=\"DejaVuSans-79\" transform=\"scale(0.015625)\"/>\n       </defs>\n       <use xlink:href=\"#DejaVuSans-4f\"/>\n       <use x=\"78.710938\" xlink:href=\"#DejaVuSans-6e\"/>\n       <use x=\"142.089844\" xlink:href=\"#DejaVuSans-6c\"/>\n       <use x=\"169.873047\" xlink:href=\"#DejaVuSans-69\"/>\n       <use x=\"197.65625\" xlink:href=\"#DejaVuSans-6e\"/>\n       <use x=\"261.035156\" xlink:href=\"#DejaVuSans-65\"/>\n       <use x=\"322.558594\" xlink:href=\"#DejaVuSans-20\"/>\n       <use x=\"354.345703\" xlink:href=\"#DejaVuSans-44\"/>\n       <use x=\"431.347656\" xlink:href=\"#DejaVuSans-69\"/>\n       <use x=\"459.130859\" xlink:href=\"#DejaVuSans-73\"/>\n       <use x=\"511.230469\" xlink:href=\"#DejaVuSans-70\"/>\n       <use x=\"574.707031\" xlink:href=\"#DejaVuSans-6c\"/>\n       <use x=\"602.490234\" xlink:href=\"#DejaVuSans-61\"/>\n       <use x=\"663.769531\" xlink:href=\"#DejaVuSans-79\"/>\n      </g>\n     </g>\n    </g>\n    <g id=\"xtick_7\">\n     <g id=\"line2d_7\">\n      <g>\n       <use style=\"stroke:#000000;stroke-width:0.8;\" x=\"666.815313\" xlink:href=\"#m4f5f3777c1\" y=\"359.037188\"/>\n      </g>\n     </g>\n     <g id=\"text_7\">\n      <!-- Facebook -->\n      <g transform=\"translate(643.317656 373.635625)scale(0.1 -0.1)\">\n       <defs>\n        <path d=\"M 628 4666 \nL 3309 4666 \nL 3309 4134 \nL 1259 4134 \nL 1259 2759 \nL 3109 2759 \nL 3109 2228 \nL 1259 2228 \nL 1259 0 \nL 628 0 \nL 628 4666 \nz\n\" id=\"DejaVuSans-46\" transform=\"scale(0.015625)\"/>\n        <path d=\"M 3116 1747 \nQ 3116 2381 2855 2742 \nQ 2594 3103 2138 3103 \nQ 1681 3103 1420 2742 \nQ 1159 2381 1159 1747 \nQ 1159 1113 1420 752 \nQ 1681 391 2138 391 \nQ 2594 391 2855 752 \nQ 3116 1113 3116 1747 \nz\nM 1159 2969 \nQ 1341 3281 1617 3432 \nQ 1894 3584 2278 3584 \nQ 2916 3584 3314 3078 \nQ 3713 2572 3713 1747 \nQ 3713 922 3314 415 \nQ 2916 -91 2278 -91 \nQ 1894 -91 1617 61 \nQ 1341 213 1159 525 \nL 1159 0 \nL 581 0 \nL 581 4863 \nL 1159 4863 \nL 1159 2969 \nz\n\" id=\"DejaVuSans-62\" transform=\"scale(0.015625)\"/>\n        <path d=\"M 581 4863 \nL 1159 4863 \nL 1159 1991 \nL 2875 3500 \nL 3609 3500 \nL 1753 1863 \nL 3688 0 \nL 2938 0 \nL 1159 1709 \nL 1159 0 \nL 581 0 \nL 581 4863 \nz\n\" id=\"DejaVuSans-6b\" transform=\"scale(0.015625)\"/>\n       </defs>\n       <use xlink:href=\"#DejaVuSans-46\"/>\n       <use x=\"48.394531\" xlink:href=\"#DejaVuSans-61\"/>\n       <use x=\"109.673828\" xlink:href=\"#DejaVuSans-63\"/>\n       <use x=\"164.654297\" xlink:href=\"#DejaVuSans-65\"/>\n       <use x=\"226.177734\" xlink:href=\"#DejaVuSans-62\"/>\n       <use x=\"289.654297\" xlink:href=\"#DejaVuSans-6f\"/>\n       <use x=\"350.835938\" xlink:href=\"#DejaVuSans-6f\"/>\n       <use x=\"412.017578\" xlink:href=\"#DejaVuSans-6b\"/>\n      </g>\n     </g>\n    </g>\n    <g id=\"xtick_8\">\n     <g id=\"line2d_8\">\n      <g>\n       <use style=\"stroke:#000000;stroke-width:0.8;\" x=\"756.095313\" xlink:href=\"#m4f5f3777c1\" y=\"359.037188\"/>\n      </g>\n     </g>\n     <g id=\"text_8\">\n      <!-- Online Video -->\n      <g transform=\"translate(724.371094 373.635625)scale(0.1 -0.1)\">\n       <defs>\n        <path d=\"M 1831 0 \nL 50 4666 \nL 709 4666 \nL 2188 738 \nL 3669 4666 \nL 4325 4666 \nL 2547 0 \nL 1831 0 \nz\n\" id=\"DejaVuSans-56\" transform=\"scale(0.015625)\"/>\n       </defs>\n       <use xlink:href=\"#DejaVuSans-4f\"/>\n       <use x=\"78.710938\" xlink:href=\"#DejaVuSans-6e\"/>\n       <use x=\"142.089844\" xlink:href=\"#DejaVuSans-6c\"/>\n       <use x=\"169.873047\" xlink:href=\"#DejaVuSans-69\"/>\n       <use x=\"197.65625\" xlink:href=\"#DejaVuSans-6e\"/>\n       <use x=\"261.035156\" xlink:href=\"#DejaVuSans-65\"/>\n       <use x=\"322.558594\" xlink:href=\"#DejaVuSans-20\"/>\n       <use x=\"354.345703\" xlink:href=\"#DejaVuSans-56\"/>\n       <use x=\"420.503906\" xlink:href=\"#DejaVuSans-69\"/>\n       <use x=\"448.287109\" xlink:href=\"#DejaVuSans-64\"/>\n       <use x=\"511.763672\" xlink:href=\"#DejaVuSans-65\"/>\n       <use x=\"573.287109\" xlink:href=\"#DejaVuSans-6f\"/>\n      </g>\n     </g>\n    </g>\n   </g>\n   <g id=\"matplotlib.axis_2\">\n    <g id=\"ytick_1\">\n     <g id=\"line2d_9\">\n      <defs>\n       <path d=\"M 0 0 \nL -3.5 0 \n\" id=\"m1343a4fe4f\" style=\"stroke:#000000;stroke-width:0.8;\"/>\n      </defs>\n      <g>\n       <use style=\"stroke:#000000;stroke-width:0.8;\" x=\"86.495313\" xlink:href=\"#m1343a4fe4f\" y=\"53.262187\"/>\n      </g>\n     </g>\n     <g id=\"text_9\">\n      <!-- Paid Search -->\n      <g transform=\"translate(21.13125 56.021562)scale(0.1 -0.1)\">\n       <use xlink:href=\"#DejaVuSans-50\"/>\n       <use x=\"55.802734\" xlink:href=\"#DejaVuSans-61\"/>\n       <use x=\"117.082031\" xlink:href=\"#DejaVuSans-69\"/>\n       <use x=\"144.865234\" xlink:href=\"#DejaVuSans-64\"/>\n       <use x=\"208.341797\" xlink:href=\"#DejaVuSans-20\"/>\n       <use x=\"240.128906\" xlink:href=\"#DejaVuSans-53\"/>\n       <use x=\"303.605469\" xlink:href=\"#DejaVuSans-65\"/>\n       <use x=\"365.128906\" xlink:href=\"#DejaVuSans-61\"/>\n       <use x=\"426.408203\" xlink:href=\"#DejaVuSans-72\"/>\n       <use x=\"465.271484\" xlink:href=\"#DejaVuSans-63\"/>\n       <use x=\"520.251953\" xlink:href=\"#DejaVuSans-68\"/>\n      </g>\n     </g>\n    </g>\n    <g id=\"ytick_2\">\n     <g id=\"line2d_10\">\n      <g>\n       <use style=\"stroke:#000000;stroke-width:0.8;\" x=\"86.495313\" xlink:href=\"#m1343a4fe4f\" y=\"94.032187\"/>\n      </g>\n     </g>\n     <g id=\"text_10\">\n      <!-- Instagram -->\n      <g transform=\"translate(28.621875 96.791562)scale(0.1 -0.1)\">\n       <use xlink:href=\"#DejaVuSans-49\"/>\n       <use x=\"29.492188\" xlink:href=\"#DejaVuSans-6e\"/>\n       <use x=\"92.871094\" xlink:href=\"#DejaVuSans-73\"/>\n       <use x=\"144.970703\" xlink:href=\"#DejaVuSans-74\"/>\n       <use x=\"184.179688\" xlink:href=\"#DejaVuSans-61\"/>\n       <use x=\"245.458984\" xlink:href=\"#DejaVuSans-67\"/>\n       <use x=\"308.935547\" xlink:href=\"#DejaVuSans-72\"/>\n       <use x=\"350.048828\" xlink:href=\"#DejaVuSans-61\"/>\n       <use x=\"411.328125\" xlink:href=\"#DejaVuSans-6d\"/>\n      </g>\n     </g>\n    </g>\n    <g id=\"ytick_3\">\n     <g id=\"line2d_11\">\n      <g>\n       <use style=\"stroke:#000000;stroke-width:0.8;\" x=\"86.495313\" xlink:href=\"#m1343a4fe4f\" y=\"134.802188\"/>\n      </g>\n     </g>\n     <g id=\"text_11\">\n      <!-- Start -->\n      <g transform=\"translate(55.067188 137.561563)scale(0.1 -0.1)\">\n       <use xlink:href=\"#DejaVuSans-53\"/>\n       <use x=\"63.476562\" xlink:href=\"#DejaVuSans-74\"/>\n       <use x=\"102.685547\" xlink:href=\"#DejaVuSans-61\"/>\n       <use x=\"163.964844\" xlink:href=\"#DejaVuSans-72\"/>\n       <use x=\"205.078125\" xlink:href=\"#DejaVuSans-74\"/>\n      </g>\n     </g>\n    </g>\n    <g id=\"ytick_4\">\n     <g id=\"line2d_12\">\n      <g>\n       <use style=\"stroke:#000000;stroke-width:0.8;\" x=\"86.495313\" xlink:href=\"#m1343a4fe4f\" y=\"175.572188\"/>\n      </g>\n     </g>\n     <g id=\"text_12\">\n      <!-- Null -->\n      <g transform=\"translate(60.120313 178.331563)scale(0.1 -0.1)\">\n       <use xlink:href=\"#DejaVuSans-4e\"/>\n       <use x=\"74.804688\" xlink:href=\"#DejaVuSans-75\"/>\n       <use x=\"138.183594\" xlink:href=\"#DejaVuSans-6c\"/>\n       <use x=\"165.966797\" xlink:href=\"#DejaVuSans-6c\"/>\n      </g>\n     </g>\n    </g>\n    <g id=\"ytick_5\">\n     <g id=\"line2d_13\">\n      <g>\n       <use style=\"stroke:#000000;stroke-width:0.8;\" x=\"86.495313\" xlink:href=\"#m1343a4fe4f\" y=\"216.342187\"/>\n      </g>\n     </g>\n     <g id=\"text_13\">\n      <!-- Conversion -->\n      <g transform=\"translate(23.429688 219.101562)scale(0.1 -0.1)\">\n       <use xlink:href=\"#DejaVuSans-43\"/>\n       <use x=\"69.824219\" xlink:href=\"#DejaVuSans-6f\"/>\n       <use x=\"131.005859\" xlink:href=\"#DejaVuSans-6e\"/>\n       <use x=\"194.384766\" xlink:href=\"#DejaVuSans-76\"/>\n       <use x=\"253.564453\" xlink:href=\"#DejaVuSans-65\"/>\n       <use x=\"315.087891\" xlink:href=\"#DejaVuSans-72\"/>\n       <use x=\"356.201172\" xlink:href=\"#DejaVuSans-73\"/>\n       <use x=\"408.300781\" xlink:href=\"#DejaVuSans-69\"/>\n       <use x=\"436.083984\" xlink:href=\"#DejaVuSans-6f\"/>\n       <use x=\"497.265625\" xlink:href=\"#DejaVuSans-6e\"/>\n      </g>\n     </g>\n    </g>\n    <g id=\"ytick_6\">\n     <g id=\"line2d_14\">\n      <g>\n       <use style=\"stroke:#000000;stroke-width:0.8;\" x=\"86.495313\" xlink:href=\"#m1343a4fe4f\" y=\"257.112188\"/>\n      </g>\n     </g>\n     <g id=\"text_14\">\n      <!-- Online Display -->\n      <g transform=\"translate(7.2 259.871562)scale(0.1 -0.1)\">\n       <use xlink:href=\"#DejaVuSans-4f\"/>\n       <use x=\"78.710938\" xlink:href=\"#DejaVuSans-6e\"/>\n       <use x=\"142.089844\" xlink:href=\"#DejaVuSans-6c\"/>\n       <use x=\"169.873047\" xlink:href=\"#DejaVuSans-69\"/>\n       <use x=\"197.65625\" xlink:href=\"#DejaVuSans-6e\"/>\n       <use x=\"261.035156\" xlink:href=\"#DejaVuSans-65\"/>\n       <use x=\"322.558594\" xlink:href=\"#DejaVuSans-20\"/>\n       <use x=\"354.345703\" xlink:href=\"#DejaVuSans-44\"/>\n       <use x=\"431.347656\" xlink:href=\"#DejaVuSans-69\"/>\n       <use x=\"459.130859\" xlink:href=\"#DejaVuSans-73\"/>\n       <use x=\"511.230469\" xlink:href=\"#DejaVuSans-70\"/>\n       <use x=\"574.707031\" xlink:href=\"#DejaVuSans-6c\"/>\n       <use x=\"602.490234\" xlink:href=\"#DejaVuSans-61\"/>\n       <use x=\"663.769531\" xlink:href=\"#DejaVuSans-79\"/>\n      </g>\n     </g>\n    </g>\n    <g id=\"ytick_7\">\n     <g id=\"line2d_15\">\n      <g>\n       <use style=\"stroke:#000000;stroke-width:0.8;\" x=\"86.495313\" xlink:href=\"#m1343a4fe4f\" y=\"297.882187\"/>\n      </g>\n     </g>\n     <g id=\"text_15\">\n      <!-- Facebook -->\n      <g transform=\"translate(32.5 300.641562)scale(0.1 -0.1)\">\n       <use xlink:href=\"#DejaVuSans-46\"/>\n       <use x=\"48.394531\" xlink:href=\"#DejaVuSans-61\"/>\n       <use x=\"109.673828\" xlink:href=\"#DejaVuSans-63\"/>\n       <use x=\"164.654297\" xlink:href=\"#DejaVuSans-65\"/>\n       <use x=\"226.177734\" xlink:href=\"#DejaVuSans-62\"/>\n       <use x=\"289.654297\" xlink:href=\"#DejaVuSans-6f\"/>\n       <use x=\"350.835938\" xlink:href=\"#DejaVuSans-6f\"/>\n       <use x=\"412.017578\" xlink:href=\"#DejaVuSans-6b\"/>\n      </g>\n     </g>\n    </g>\n    <g id=\"ytick_8\">\n     <g id=\"line2d_16\">\n      <g>\n       <use style=\"stroke:#000000;stroke-width:0.8;\" x=\"86.495313\" xlink:href=\"#m1343a4fe4f\" y=\"338.652188\"/>\n      </g>\n     </g>\n     <g id=\"text_16\">\n      <!-- Online Video -->\n      <g transform=\"translate(16.046875 341.411563)scale(0.1 -0.1)\">\n       <use xlink:href=\"#DejaVuSans-4f\"/>\n       <use x=\"78.710938\" xlink:href=\"#DejaVuSans-6e\"/>\n       <use x=\"142.089844\" xlink:href=\"#DejaVuSans-6c\"/>\n       <use x=\"169.873047\" xlink:href=\"#DejaVuSans-69\"/>\n       <use x=\"197.65625\" xlink:href=\"#DejaVuSans-6e\"/>\n       <use x=\"261.035156\" xlink:href=\"#DejaVuSans-65\"/>\n       <use x=\"322.558594\" xlink:href=\"#DejaVuSans-20\"/>\n       <use x=\"354.345703\" xlink:href=\"#DejaVuSans-56\"/>\n       <use x=\"420.503906\" xlink:href=\"#DejaVuSans-69\"/>\n       <use x=\"448.287109\" xlink:href=\"#DejaVuSans-64\"/>\n       <use x=\"511.763672\" xlink:href=\"#DejaVuSans-65\"/>\n       <use x=\"573.287109\" xlink:href=\"#DejaVuSans-6f\"/>\n      </g>\n     </g>\n    </g>\n   </g>\n   <g id=\"text_17\">\n    <!-- 1 -->\n    <g style=\"fill:#ffffff;\" transform=\"translate(127.954063 56.021562)scale(0.1 -0.1)\">\n     <defs>\n      <path d=\"M 794 531 \nL 1825 531 \nL 1825 4091 \nL 703 3866 \nL 703 4441 \nL 1819 4666 \nL 2450 4666 \nL 2450 531 \nL 3481 531 \nL 3481 0 \nL 794 0 \nL 794 531 \nz\n\" id=\"DejaVuSans-31\" transform=\"scale(0.015625)\"/>\n     </defs>\n     <use xlink:href=\"#DejaVuSans-31\"/>\n    </g>\n   </g>\n   <g id=\"text_18\">\n    <!-- 0.51 -->\n    <g style=\"fill:#ffffff;\" transform=\"translate(209.2825 56.021562)scale(0.1 -0.1)\">\n     <defs>\n      <path d=\"M 2034 4250 \nQ 1547 4250 1301 3770 \nQ 1056 3291 1056 2328 \nQ 1056 1369 1301 889 \nQ 1547 409 2034 409 \nQ 2525 409 2770 889 \nQ 3016 1369 3016 2328 \nQ 3016 3291 2770 3770 \nQ 2525 4250 2034 4250 \nz\nM 2034 4750 \nQ 2819 4750 3233 4129 \nQ 3647 3509 3647 2328 \nQ 3647 1150 3233 529 \nQ 2819 -91 2034 -91 \nQ 1250 -91 836 529 \nQ 422 1150 422 2328 \nQ 422 3509 836 4129 \nQ 1250 4750 2034 4750 \nz\n\" id=\"DejaVuSans-30\" transform=\"scale(0.015625)\"/>\n      <path d=\"M 684 794 \nL 1344 794 \nL 1344 0 \nL 684 0 \nL 684 794 \nz\n\" id=\"DejaVuSans-2e\" transform=\"scale(0.015625)\"/>\n      <path d=\"M 691 4666 \nL 3169 4666 \nL 3169 4134 \nL 1269 4134 \nL 1269 2991 \nQ 1406 3038 1543 3061 \nQ 1681 3084 1819 3084 \nQ 2600 3084 3056 2656 \nQ 3513 2228 3513 1497 \nQ 3513 744 3044 326 \nQ 2575 -91 1722 -91 \nQ 1428 -91 1123 -41 \nQ 819 9 494 109 \nL 494 744 \nQ 775 591 1075 516 \nQ 1375 441 1709 441 \nQ 2250 441 2565 725 \nQ 2881 1009 2881 1497 \nQ 2881 1984 2565 2268 \nQ 2250 2553 1709 2553 \nQ 1456 2553 1204 2497 \nQ 953 2441 691 2322 \nL 691 4666 \nz\n\" id=\"DejaVuSans-35\" transform=\"scale(0.015625)\"/>\n     </defs>\n     <use xlink:href=\"#DejaVuSans-30\"/>\n     <use x=\"63.623047\" xlink:href=\"#DejaVuSans-2e\"/>\n     <use x=\"95.410156\" xlink:href=\"#DejaVuSans-35\"/>\n     <use x=\"159.033203\" xlink:href=\"#DejaVuSans-31\"/>\n    </g>\n   </g>\n   <g id=\"text_19\">\n    <!-- -0.54 -->\n    <g style=\"fill:#ffffff;\" transform=\"translate(386.038594 56.021562)scale(0.1 -0.1)\">\n     <defs>\n      <path d=\"M 313 2009 \nL 1997 2009 \nL 1997 1497 \nL 313 1497 \nL 313 2009 \nz\n\" id=\"DejaVuSans-2d\" transform=\"scale(0.015625)\"/>\n      <path d=\"M 2419 4116 \nL 825 1625 \nL 2419 1625 \nL 2419 4116 \nz\nM 2253 4666 \nL 3047 4666 \nL 3047 1625 \nL 3713 1625 \nL 3713 1100 \nL 3047 1100 \nL 3047 0 \nL 2419 0 \nL 2419 1100 \nL 313 1100 \nL 313 1709 \nL 2253 4666 \nz\n\" id=\"DejaVuSans-34\" transform=\"scale(0.015625)\"/>\n     </defs>\n     <use xlink:href=\"#DejaVuSans-2d\"/>\n     <use x=\"36.083984\" xlink:href=\"#DejaVuSans-30\"/>\n     <use x=\"99.707031\" xlink:href=\"#DejaVuSans-2e\"/>\n     <use x=\"131.494141\" xlink:href=\"#DejaVuSans-35\"/>\n     <use x=\"195.117188\" xlink:href=\"#DejaVuSans-34\"/>\n    </g>\n   </g>\n   <g id=\"text_20\">\n    <!-- -0.3 -->\n    <g style=\"fill:#262626;\" transform=\"translate(478.499844 56.021562)scale(0.1 -0.1)\">\n     <defs>\n      <path d=\"M 2597 2516 \nQ 3050 2419 3304 2112 \nQ 3559 1806 3559 1356 \nQ 3559 666 3084 287 \nQ 2609 -91 1734 -91 \nQ 1441 -91 1130 -33 \nQ 819 25 488 141 \nL 488 750 \nQ 750 597 1062 519 \nQ 1375 441 1716 441 \nQ 2309 441 2620 675 \nQ 2931 909 2931 1356 \nQ 2931 1769 2642 2001 \nQ 2353 2234 1838 2234 \nL 1294 2234 \nL 1294 2753 \nL 1863 2753 \nQ 2328 2753 2575 2939 \nQ 2822 3125 2822 3475 \nQ 2822 3834 2567 4026 \nQ 2313 4219 1838 4219 \nQ 1578 4219 1281 4162 \nQ 984 4106 628 3988 \nL 628 4550 \nQ 988 4650 1302 4700 \nQ 1616 4750 1894 4750 \nQ 2613 4750 3031 4423 \nQ 3450 4097 3450 3541 \nQ 3450 3153 3228 2886 \nQ 3006 2619 2597 2516 \nz\n\" id=\"DejaVuSans-33\" transform=\"scale(0.015625)\"/>\n     </defs>\n     <use xlink:href=\"#DejaVuSans-2d\"/>\n     <use x=\"36.083984\" xlink:href=\"#DejaVuSans-30\"/>\n     <use x=\"99.707031\" xlink:href=\"#DejaVuSans-2e\"/>\n     <use x=\"131.494141\" xlink:href=\"#DejaVuSans-33\"/>\n    </g>\n   </g>\n   <g id=\"text_21\">\n    <!-- 0.87 -->\n    <g style=\"fill:#ffffff;\" transform=\"translate(566.4025 56.021562)scale(0.1 -0.1)\">\n     <defs>\n      <path d=\"M 2034 2216 \nQ 1584 2216 1326 1975 \nQ 1069 1734 1069 1313 \nQ 1069 891 1326 650 \nQ 1584 409 2034 409 \nQ 2484 409 2743 651 \nQ 3003 894 3003 1313 \nQ 3003 1734 2745 1975 \nQ 2488 2216 2034 2216 \nz\nM 1403 2484 \nQ 997 2584 770 2862 \nQ 544 3141 544 3541 \nQ 544 4100 942 4425 \nQ 1341 4750 2034 4750 \nQ 2731 4750 3128 4425 \nQ 3525 4100 3525 3541 \nQ 3525 3141 3298 2862 \nQ 3072 2584 2669 2484 \nQ 3125 2378 3379 2068 \nQ 3634 1759 3634 1313 \nQ 3634 634 3220 271 \nQ 2806 -91 2034 -91 \nQ 1263 -91 848 271 \nQ 434 634 434 1313 \nQ 434 1759 690 2068 \nQ 947 2378 1403 2484 \nz\nM 1172 3481 \nQ 1172 3119 1398 2916 \nQ 1625 2713 2034 2713 \nQ 2441 2713 2670 2916 \nQ 2900 3119 2900 3481 \nQ 2900 3844 2670 4047 \nQ 2441 4250 2034 4250 \nQ 1625 4250 1398 4047 \nQ 1172 3844 1172 3481 \nz\n\" id=\"DejaVuSans-38\" transform=\"scale(0.015625)\"/>\n      <path d=\"M 525 4666 \nL 3525 4666 \nL 3525 4397 \nL 1831 0 \nL 1172 0 \nL 2766 4134 \nL 525 4134 \nL 525 4666 \nz\n\" id=\"DejaVuSans-37\" transform=\"scale(0.015625)\"/>\n     </defs>\n     <use xlink:href=\"#DejaVuSans-30\"/>\n     <use x=\"63.623047\" xlink:href=\"#DejaVuSans-2e\"/>\n     <use x=\"95.410156\" xlink:href=\"#DejaVuSans-38\"/>\n     <use x=\"159.033203\" xlink:href=\"#DejaVuSans-37\"/>\n    </g>\n   </g>\n   <g id=\"text_22\">\n    <!-- 0.76 -->\n    <g style=\"fill:#ffffff;\" transform=\"translate(655.6825 56.021562)scale(0.1 -0.1)\">\n     <defs>\n      <path d=\"M 2113 2584 \nQ 1688 2584 1439 2293 \nQ 1191 2003 1191 1497 \nQ 1191 994 1439 701 \nQ 1688 409 2113 409 \nQ 2538 409 2786 701 \nQ 3034 994 3034 1497 \nQ 3034 2003 2786 2293 \nQ 2538 2584 2113 2584 \nz\nM 3366 4563 \nL 3366 3988 \nQ 3128 4100 2886 4159 \nQ 2644 4219 2406 4219 \nQ 1781 4219 1451 3797 \nQ 1122 3375 1075 2522 \nQ 1259 2794 1537 2939 \nQ 1816 3084 2150 3084 \nQ 2853 3084 3261 2657 \nQ 3669 2231 3669 1497 \nQ 3669 778 3244 343 \nQ 2819 -91 2113 -91 \nQ 1303 -91 875 529 \nQ 447 1150 447 2328 \nQ 447 3434 972 4092 \nQ 1497 4750 2381 4750 \nQ 2619 4750 2861 4703 \nQ 3103 4656 3366 4563 \nz\n\" id=\"DejaVuSans-36\" transform=\"scale(0.015625)\"/>\n     </defs>\n     <use xlink:href=\"#DejaVuSans-30\"/>\n     <use x=\"63.623047\" xlink:href=\"#DejaVuSans-2e\"/>\n     <use x=\"95.410156\" xlink:href=\"#DejaVuSans-37\"/>\n     <use x=\"159.033203\" xlink:href=\"#DejaVuSans-36\"/>\n    </g>\n   </g>\n   <g id=\"text_23\">\n    <!-- 0.94 -->\n    <g style=\"fill:#ffffff;\" transform=\"translate(744.9625 56.021562)scale(0.1 -0.1)\">\n     <defs>\n      <path d=\"M 703 97 \nL 703 672 \nQ 941 559 1184 500 \nQ 1428 441 1663 441 \nQ 2288 441 2617 861 \nQ 2947 1281 2994 2138 \nQ 2813 1869 2534 1725 \nQ 2256 1581 1919 1581 \nQ 1219 1581 811 2004 \nQ 403 2428 403 3163 \nQ 403 3881 828 4315 \nQ 1253 4750 1959 4750 \nQ 2769 4750 3195 4129 \nQ 3622 3509 3622 2328 \nQ 3622 1225 3098 567 \nQ 2575 -91 1691 -91 \nQ 1453 -91 1209 -44 \nQ 966 3 703 97 \nz\nM 1959 2075 \nQ 2384 2075 2632 2365 \nQ 2881 2656 2881 3163 \nQ 2881 3666 2632 3958 \nQ 2384 4250 1959 4250 \nQ 1534 4250 1286 3958 \nQ 1038 3666 1038 3163 \nQ 1038 2656 1286 2365 \nQ 1534 2075 1959 2075 \nz\n\" id=\"DejaVuSans-39\" transform=\"scale(0.015625)\"/>\n     </defs>\n     <use xlink:href=\"#DejaVuSans-30\"/>\n     <use x=\"63.623047\" xlink:href=\"#DejaVuSans-2e\"/>\n     <use x=\"95.410156\" xlink:href=\"#DejaVuSans-39\"/>\n     <use x=\"159.033203\" xlink:href=\"#DejaVuSans-34\"/>\n    </g>\n   </g>\n   <g id=\"text_24\">\n    <!-- 0.51 -->\n    <g style=\"fill:#ffffff;\" transform=\"translate(120.0025 96.791562)scale(0.1 -0.1)\">\n     <use xlink:href=\"#DejaVuSans-30\"/>\n     <use x=\"63.623047\" xlink:href=\"#DejaVuSans-2e\"/>\n     <use x=\"95.410156\" xlink:href=\"#DejaVuSans-35\"/>\n     <use x=\"159.033203\" xlink:href=\"#DejaVuSans-31\"/>\n    </g>\n   </g>\n   <g id=\"text_25\">\n    <!-- 1 -->\n    <g style=\"fill:#ffffff;\" transform=\"translate(217.234063 96.791562)scale(0.1 -0.1)\">\n     <use xlink:href=\"#DejaVuSans-31\"/>\n    </g>\n   </g>\n   <g id=\"text_26\">\n    <!-- -0.2 -->\n    <g style=\"fill:#262626;\" transform=\"translate(389.219844 96.791562)scale(0.1 -0.1)\">\n     <defs>\n      <path d=\"M 1228 531 \nL 3431 531 \nL 3431 0 \nL 469 0 \nL 469 531 \nQ 828 903 1448 1529 \nQ 2069 2156 2228 2338 \nQ 2531 2678 2651 2914 \nQ 2772 3150 2772 3378 \nQ 2772 3750 2511 3984 \nQ 2250 4219 1831 4219 \nQ 1534 4219 1204 4116 \nQ 875 4013 500 3803 \nL 500 4441 \nQ 881 4594 1212 4672 \nQ 1544 4750 1819 4750 \nQ 2544 4750 2975 4387 \nQ 3406 4025 3406 3419 \nQ 3406 3131 3298 2873 \nQ 3191 2616 2906 2266 \nQ 2828 2175 2409 1742 \nQ 1991 1309 1228 531 \nz\n\" id=\"DejaVuSans-32\" transform=\"scale(0.015625)\"/>\n     </defs>\n     <use xlink:href=\"#DejaVuSans-2d\"/>\n     <use x=\"36.083984\" xlink:href=\"#DejaVuSans-30\"/>\n     <use x=\"99.707031\" xlink:href=\"#DejaVuSans-2e\"/>\n     <use x=\"131.494141\" xlink:href=\"#DejaVuSans-32\"/>\n    </g>\n   </g>\n   <g id=\"text_27\">\n    <!-- -0.31 -->\n    <g style=\"fill:#262626;\" transform=\"translate(475.318594 96.791562)scale(0.1 -0.1)\">\n     <use xlink:href=\"#DejaVuSans-2d\"/>\n     <use x=\"36.083984\" xlink:href=\"#DejaVuSans-30\"/>\n     <use x=\"99.707031\" xlink:href=\"#DejaVuSans-2e\"/>\n     <use x=\"131.494141\" xlink:href=\"#DejaVuSans-33\"/>\n     <use x=\"195.117188\" xlink:href=\"#DejaVuSans-31\"/>\n    </g>\n   </g>\n   <g id=\"text_28\">\n    <!-- 0.52 -->\n    <g style=\"fill:#ffffff;\" transform=\"translate(566.4025 96.791562)scale(0.1 -0.1)\">\n     <use xlink:href=\"#DejaVuSans-30\"/>\n     <use x=\"63.623047\" xlink:href=\"#DejaVuSans-2e\"/>\n     <use x=\"95.410156\" xlink:href=\"#DejaVuSans-35\"/>\n     <use x=\"159.033203\" xlink:href=\"#DejaVuSans-32\"/>\n    </g>\n   </g>\n   <g id=\"text_29\">\n    <!-- 0.13 -->\n    <g style=\"fill:#262626;\" transform=\"translate(655.6825 96.791562)scale(0.1 -0.1)\">\n     <use xlink:href=\"#DejaVuSans-30\"/>\n     <use x=\"63.623047\" xlink:href=\"#DejaVuSans-2e\"/>\n     <use x=\"95.410156\" xlink:href=\"#DejaVuSans-31\"/>\n     <use x=\"159.033203\" xlink:href=\"#DejaVuSans-33\"/>\n    </g>\n   </g>\n   <g id=\"text_30\">\n    <!-- 0.54 -->\n    <g style=\"fill:#ffffff;\" transform=\"translate(744.9625 96.791562)scale(0.1 -0.1)\">\n     <use xlink:href=\"#DejaVuSans-30\"/>\n     <use x=\"63.623047\" xlink:href=\"#DejaVuSans-2e\"/>\n     <use x=\"95.410156\" xlink:href=\"#DejaVuSans-35\"/>\n     <use x=\"159.033203\" xlink:href=\"#DejaVuSans-34\"/>\n    </g>\n   </g>\n   <g id=\"text_31\">\n    <!-- -0.54 -->\n    <g style=\"fill:#ffffff;\" transform=\"translate(118.198594 178.331563)scale(0.1 -0.1)\">\n     <use xlink:href=\"#DejaVuSans-2d\"/>\n     <use x=\"36.083984\" xlink:href=\"#DejaVuSans-30\"/>\n     <use x=\"99.707031\" xlink:href=\"#DejaVuSans-2e\"/>\n     <use x=\"131.494141\" xlink:href=\"#DejaVuSans-35\"/>\n     <use x=\"195.117188\" xlink:href=\"#DejaVuSans-34\"/>\n    </g>\n   </g>\n   <g id=\"text_32\">\n    <!-- -0.2 -->\n    <g style=\"fill:#262626;\" transform=\"translate(210.659844 178.331563)scale(0.1 -0.1)\">\n     <use xlink:href=\"#DejaVuSans-2d\"/>\n     <use x=\"36.083984\" xlink:href=\"#DejaVuSans-30\"/>\n     <use x=\"99.707031\" xlink:href=\"#DejaVuSans-2e\"/>\n     <use x=\"131.494141\" xlink:href=\"#DejaVuSans-32\"/>\n    </g>\n   </g>\n   <g id=\"text_33\">\n    <!-- 1 -->\n    <g style=\"fill:#ffffff;\" transform=\"translate(395.794063 178.331563)scale(0.1 -0.1)\">\n     <use xlink:href=\"#DejaVuSans-31\"/>\n    </g>\n   </g>\n   <g id=\"text_34\">\n    <!-- -0.6 -->\n    <g style=\"fill:#ffffff;\" transform=\"translate(478.499844 178.331563)scale(0.1 -0.1)\">\n     <use xlink:href=\"#DejaVuSans-2d\"/>\n     <use x=\"36.083984\" xlink:href=\"#DejaVuSans-30\"/>\n     <use x=\"99.707031\" xlink:href=\"#DejaVuSans-2e\"/>\n     <use x=\"131.494141\" xlink:href=\"#DejaVuSans-36\"/>\n    </g>\n   </g>\n   <g id=\"text_35\">\n    <!-- -0.53 -->\n    <g style=\"fill:#ffffff;\" transform=\"translate(564.598594 178.331563)scale(0.1 -0.1)\">\n     <use xlink:href=\"#DejaVuSans-2d\"/>\n     <use x=\"36.083984\" xlink:href=\"#DejaVuSans-30\"/>\n     <use x=\"99.707031\" xlink:href=\"#DejaVuSans-2e\"/>\n     <use x=\"131.494141\" xlink:href=\"#DejaVuSans-35\"/>\n     <use x=\"195.117188\" xlink:href=\"#DejaVuSans-33\"/>\n    </g>\n   </g>\n   <g id=\"text_36\">\n    <!-- -0.41 -->\n    <g style=\"fill:#262626;\" transform=\"translate(653.878594 178.331563)scale(0.1 -0.1)\">\n     <use xlink:href=\"#DejaVuSans-2d\"/>\n     <use x=\"36.083984\" xlink:href=\"#DejaVuSans-30\"/>\n     <use x=\"99.707031\" xlink:href=\"#DejaVuSans-2e\"/>\n     <use x=\"131.494141\" xlink:href=\"#DejaVuSans-34\"/>\n     <use x=\"195.117188\" xlink:href=\"#DejaVuSans-31\"/>\n    </g>\n   </g>\n   <g id=\"text_37\">\n    <!-- -0.56 -->\n    <g style=\"fill:#ffffff;\" transform=\"translate(743.158594 178.331563)scale(0.1 -0.1)\">\n     <use xlink:href=\"#DejaVuSans-2d\"/>\n     <use x=\"36.083984\" xlink:href=\"#DejaVuSans-30\"/>\n     <use x=\"99.707031\" xlink:href=\"#DejaVuSans-2e\"/>\n     <use x=\"131.494141\" xlink:href=\"#DejaVuSans-35\"/>\n     <use x=\"195.117188\" xlink:href=\"#DejaVuSans-36\"/>\n    </g>\n   </g>\n   <g id=\"text_38\">\n    <!-- -0.3 -->\n    <g style=\"fill:#262626;\" transform=\"translate(121.379844 219.101562)scale(0.1 -0.1)\">\n     <use xlink:href=\"#DejaVuSans-2d\"/>\n     <use x=\"36.083984\" xlink:href=\"#DejaVuSans-30\"/>\n     <use x=\"99.707031\" xlink:href=\"#DejaVuSans-2e\"/>\n     <use x=\"131.494141\" xlink:href=\"#DejaVuSans-33\"/>\n    </g>\n   </g>\n   <g id=\"text_39\">\n    <!-- -0.31 -->\n    <g style=\"fill:#262626;\" transform=\"translate(207.478594 219.101562)scale(0.1 -0.1)\">\n     <use xlink:href=\"#DejaVuSans-2d\"/>\n     <use x=\"36.083984\" xlink:href=\"#DejaVuSans-30\"/>\n     <use x=\"99.707031\" xlink:href=\"#DejaVuSans-2e\"/>\n     <use x=\"131.494141\" xlink:href=\"#DejaVuSans-33\"/>\n     <use x=\"195.117188\" xlink:href=\"#DejaVuSans-31\"/>\n    </g>\n   </g>\n   <g id=\"text_40\">\n    <!-- -0.6 -->\n    <g style=\"fill:#ffffff;\" transform=\"translate(389.219844 219.101562)scale(0.1 -0.1)\">\n     <use xlink:href=\"#DejaVuSans-2d\"/>\n     <use x=\"36.083984\" xlink:href=\"#DejaVuSans-30\"/>\n     <use x=\"99.707031\" xlink:href=\"#DejaVuSans-2e\"/>\n     <use x=\"131.494141\" xlink:href=\"#DejaVuSans-36\"/>\n    </g>\n   </g>\n   <g id=\"text_41\">\n    <!-- 1 -->\n    <g style=\"fill:#ffffff;\" transform=\"translate(485.074063 219.101562)scale(0.1 -0.1)\">\n     <use xlink:href=\"#DejaVuSans-31\"/>\n    </g>\n   </g>\n   <g id=\"text_42\">\n    <!-- -0.31 -->\n    <g style=\"fill:#262626;\" transform=\"translate(564.598594 219.101562)scale(0.1 -0.1)\">\n     <use xlink:href=\"#DejaVuSans-2d\"/>\n     <use x=\"36.083984\" xlink:href=\"#DejaVuSans-30\"/>\n     <use x=\"99.707031\" xlink:href=\"#DejaVuSans-2e\"/>\n     <use x=\"131.494141\" xlink:href=\"#DejaVuSans-33\"/>\n     <use x=\"195.117188\" xlink:href=\"#DejaVuSans-31\"/>\n    </g>\n   </g>\n   <g id=\"text_43\">\n    <!-- -0.34 -->\n    <g style=\"fill:#262626;\" transform=\"translate(653.878594 219.101562)scale(0.1 -0.1)\">\n     <use xlink:href=\"#DejaVuSans-2d\"/>\n     <use x=\"36.083984\" xlink:href=\"#DejaVuSans-30\"/>\n     <use x=\"99.707031\" xlink:href=\"#DejaVuSans-2e\"/>\n     <use x=\"131.494141\" xlink:href=\"#DejaVuSans-33\"/>\n     <use x=\"195.117188\" xlink:href=\"#DejaVuSans-34\"/>\n    </g>\n   </g>\n   <g id=\"text_44\">\n    <!-- -0.3 -->\n    <g style=\"fill:#262626;\" transform=\"translate(746.339844 219.101562)scale(0.1 -0.1)\">\n     <use xlink:href=\"#DejaVuSans-2d\"/>\n     <use x=\"36.083984\" xlink:href=\"#DejaVuSans-30\"/>\n     <use x=\"99.707031\" xlink:href=\"#DejaVuSans-2e\"/>\n     <use x=\"131.494141\" xlink:href=\"#DejaVuSans-33\"/>\n    </g>\n   </g>\n   <g id=\"text_45\">\n    <!-- 0.87 -->\n    <g style=\"fill:#ffffff;\" transform=\"translate(120.0025 259.871562)scale(0.1 -0.1)\">\n     <use xlink:href=\"#DejaVuSans-30\"/>\n     <use x=\"63.623047\" xlink:href=\"#DejaVuSans-2e\"/>\n     <use x=\"95.410156\" xlink:href=\"#DejaVuSans-38\"/>\n     <use x=\"159.033203\" xlink:href=\"#DejaVuSans-37\"/>\n    </g>\n   </g>\n   <g id=\"text_46\">\n    <!-- 0.52 -->\n    <g style=\"fill:#ffffff;\" transform=\"translate(209.2825 259.871562)scale(0.1 -0.1)\">\n     <use xlink:href=\"#DejaVuSans-30\"/>\n     <use x=\"63.623047\" xlink:href=\"#DejaVuSans-2e\"/>\n     <use x=\"95.410156\" xlink:href=\"#DejaVuSans-35\"/>\n     <use x=\"159.033203\" xlink:href=\"#DejaVuSans-32\"/>\n    </g>\n   </g>\n   <g id=\"text_47\">\n    <!-- -0.53 -->\n    <g style=\"fill:#ffffff;\" transform=\"translate(386.038594 259.871562)scale(0.1 -0.1)\">\n     <use xlink:href=\"#DejaVuSans-2d\"/>\n     <use x=\"36.083984\" xlink:href=\"#DejaVuSans-30\"/>\n     <use x=\"99.707031\" xlink:href=\"#DejaVuSans-2e\"/>\n     <use x=\"131.494141\" xlink:href=\"#DejaVuSans-35\"/>\n     <use x=\"195.117188\" xlink:href=\"#DejaVuSans-33\"/>\n    </g>\n   </g>\n   <g id=\"text_48\">\n    <!-- -0.31 -->\n    <g style=\"fill:#262626;\" transform=\"translate(475.318594 259.871562)scale(0.1 -0.1)\">\n     <use xlink:href=\"#DejaVuSans-2d\"/>\n     <use x=\"36.083984\" xlink:href=\"#DejaVuSans-30\"/>\n     <use x=\"99.707031\" xlink:href=\"#DejaVuSans-2e\"/>\n     <use x=\"131.494141\" xlink:href=\"#DejaVuSans-33\"/>\n     <use x=\"195.117188\" xlink:href=\"#DejaVuSans-31\"/>\n    </g>\n   </g>\n   <g id=\"text_49\">\n    <!-- 1 -->\n    <g style=\"fill:#ffffff;\" transform=\"translate(574.354063 259.871562)scale(0.1 -0.1)\">\n     <use xlink:href=\"#DejaVuSans-31\"/>\n    </g>\n   </g>\n   <g id=\"text_50\">\n    <!-- 0.77 -->\n    <g style=\"fill:#ffffff;\" transform=\"translate(655.6825 259.871562)scale(0.1 -0.1)\">\n     <use xlink:href=\"#DejaVuSans-30\"/>\n     <use x=\"63.623047\" xlink:href=\"#DejaVuSans-2e\"/>\n     <use x=\"95.410156\" xlink:href=\"#DejaVuSans-37\"/>\n     <use x=\"159.033203\" xlink:href=\"#DejaVuSans-37\"/>\n    </g>\n   </g>\n   <g id=\"text_51\">\n    <!-- 0.97 -->\n    <g style=\"fill:#ffffff;\" transform=\"translate(744.9625 259.871562)scale(0.1 -0.1)\">\n     <use xlink:href=\"#DejaVuSans-30\"/>\n     <use x=\"63.623047\" xlink:href=\"#DejaVuSans-2e\"/>\n     <use x=\"95.410156\" xlink:href=\"#DejaVuSans-39\"/>\n     <use x=\"159.033203\" xlink:href=\"#DejaVuSans-37\"/>\n    </g>\n   </g>\n   <g id=\"text_52\">\n    <!-- 0.76 -->\n    <g style=\"fill:#ffffff;\" transform=\"translate(120.0025 300.641562)scale(0.1 -0.1)\">\n     <use xlink:href=\"#DejaVuSans-30\"/>\n     <use x=\"63.623047\" xlink:href=\"#DejaVuSans-2e\"/>\n     <use x=\"95.410156\" xlink:href=\"#DejaVuSans-37\"/>\n     <use x=\"159.033203\" xlink:href=\"#DejaVuSans-36\"/>\n    </g>\n   </g>\n   <g id=\"text_53\">\n    <!-- 0.13 -->\n    <g style=\"fill:#262626;\" transform=\"translate(209.2825 300.641562)scale(0.1 -0.1)\">\n     <use xlink:href=\"#DejaVuSans-30\"/>\n     <use x=\"63.623047\" xlink:href=\"#DejaVuSans-2e\"/>\n     <use x=\"95.410156\" xlink:href=\"#DejaVuSans-31\"/>\n     <use x=\"159.033203\" xlink:href=\"#DejaVuSans-33\"/>\n    </g>\n   </g>\n   <g id=\"text_54\">\n    <!-- -0.41 -->\n    <g style=\"fill:#262626;\" transform=\"translate(386.038594 300.641562)scale(0.1 -0.1)\">\n     <use xlink:href=\"#DejaVuSans-2d\"/>\n     <use x=\"36.083984\" xlink:href=\"#DejaVuSans-30\"/>\n     <use x=\"99.707031\" xlink:href=\"#DejaVuSans-2e\"/>\n     <use x=\"131.494141\" xlink:href=\"#DejaVuSans-34\"/>\n     <use x=\"195.117188\" xlink:href=\"#DejaVuSans-31\"/>\n    </g>\n   </g>\n   <g id=\"text_55\">\n    <!-- -0.34 -->\n    <g style=\"fill:#262626;\" transform=\"translate(475.318594 300.641562)scale(0.1 -0.1)\">\n     <use xlink:href=\"#DejaVuSans-2d\"/>\n     <use x=\"36.083984\" xlink:href=\"#DejaVuSans-30\"/>\n     <use x=\"99.707031\" xlink:href=\"#DejaVuSans-2e\"/>\n     <use x=\"131.494141\" xlink:href=\"#DejaVuSans-33\"/>\n     <use x=\"195.117188\" xlink:href=\"#DejaVuSans-34\"/>\n    </g>\n   </g>\n   <g id=\"text_56\">\n    <!-- 0.77 -->\n    <g style=\"fill:#ffffff;\" transform=\"translate(566.4025 300.641562)scale(0.1 -0.1)\">\n     <use xlink:href=\"#DejaVuSans-30\"/>\n     <use x=\"63.623047\" xlink:href=\"#DejaVuSans-2e\"/>\n     <use x=\"95.410156\" xlink:href=\"#DejaVuSans-37\"/>\n     <use x=\"159.033203\" xlink:href=\"#DejaVuSans-37\"/>\n    </g>\n   </g>\n   <g id=\"text_57\">\n    <!-- 1 -->\n    <g style=\"fill:#ffffff;\" transform=\"translate(663.634063 300.641562)scale(0.1 -0.1)\">\n     <use xlink:href=\"#DejaVuSans-31\"/>\n    </g>\n   </g>\n   <g id=\"text_58\">\n    <!-- 0.79 -->\n    <g style=\"fill:#ffffff;\" transform=\"translate(744.9625 300.641562)scale(0.1 -0.1)\">\n     <use xlink:href=\"#DejaVuSans-30\"/>\n     <use x=\"63.623047\" xlink:href=\"#DejaVuSans-2e\"/>\n     <use x=\"95.410156\" xlink:href=\"#DejaVuSans-37\"/>\n     <use x=\"159.033203\" xlink:href=\"#DejaVuSans-39\"/>\n    </g>\n   </g>\n   <g id=\"text_59\">\n    <!-- 0.94 -->\n    <g style=\"fill:#ffffff;\" transform=\"translate(120.0025 341.411563)scale(0.1 -0.1)\">\n     <use xlink:href=\"#DejaVuSans-30\"/>\n     <use x=\"63.623047\" xlink:href=\"#DejaVuSans-2e\"/>\n     <use x=\"95.410156\" xlink:href=\"#DejaVuSans-39\"/>\n     <use x=\"159.033203\" xlink:href=\"#DejaVuSans-34\"/>\n    </g>\n   </g>\n   <g id=\"text_60\">\n    <!-- 0.54 -->\n    <g style=\"fill:#ffffff;\" transform=\"translate(209.2825 341.411563)scale(0.1 -0.1)\">\n     <use xlink:href=\"#DejaVuSans-30\"/>\n     <use x=\"63.623047\" xlink:href=\"#DejaVuSans-2e\"/>\n     <use x=\"95.410156\" xlink:href=\"#DejaVuSans-35\"/>\n     <use x=\"159.033203\" xlink:href=\"#DejaVuSans-34\"/>\n    </g>\n   </g>\n   <g id=\"text_61\">\n    <!-- -0.56 -->\n    <g style=\"fill:#ffffff;\" transform=\"translate(386.038594 341.411563)scale(0.1 -0.1)\">\n     <use xlink:href=\"#DejaVuSans-2d\"/>\n     <use x=\"36.083984\" xlink:href=\"#DejaVuSans-30\"/>\n     <use x=\"99.707031\" xlink:href=\"#DejaVuSans-2e\"/>\n     <use x=\"131.494141\" xlink:href=\"#DejaVuSans-35\"/>\n     <use x=\"195.117188\" xlink:href=\"#DejaVuSans-36\"/>\n    </g>\n   </g>\n   <g id=\"text_62\">\n    <!-- -0.3 -->\n    <g style=\"fill:#262626;\" transform=\"translate(478.499844 341.411563)scale(0.1 -0.1)\">\n     <use xlink:href=\"#DejaVuSans-2d\"/>\n     <use x=\"36.083984\" xlink:href=\"#DejaVuSans-30\"/>\n     <use x=\"99.707031\" xlink:href=\"#DejaVuSans-2e\"/>\n     <use x=\"131.494141\" xlink:href=\"#DejaVuSans-33\"/>\n    </g>\n   </g>\n   <g id=\"text_63\">\n    <!-- 0.97 -->\n    <g style=\"fill:#ffffff;\" transform=\"translate(566.4025 341.411563)scale(0.1 -0.1)\">\n     <use xlink:href=\"#DejaVuSans-30\"/>\n     <use x=\"63.623047\" xlink:href=\"#DejaVuSans-2e\"/>\n     <use x=\"95.410156\" xlink:href=\"#DejaVuSans-39\"/>\n     <use x=\"159.033203\" xlink:href=\"#DejaVuSans-37\"/>\n    </g>\n   </g>\n   <g id=\"text_64\">\n    <!-- 0.79 -->\n    <g style=\"fill:#ffffff;\" transform=\"translate(655.6825 341.411563)scale(0.1 -0.1)\">\n     <use xlink:href=\"#DejaVuSans-30\"/>\n     <use x=\"63.623047\" xlink:href=\"#DejaVuSans-2e\"/>\n     <use x=\"95.410156\" xlink:href=\"#DejaVuSans-37\"/>\n     <use x=\"159.033203\" xlink:href=\"#DejaVuSans-39\"/>\n    </g>\n   </g>\n   <g id=\"text_65\">\n    <!-- 1 -->\n    <g style=\"fill:#ffffff;\" transform=\"translate(752.914063 341.411563)scale(0.1 -0.1)\">\n     <use xlink:href=\"#DejaVuSans-31\"/>\n    </g>\n   </g>\n   <g id=\"text_66\">\n    <!-- Correlation Heatmap -->\n    <g transform=\"translate(349.786094 20.877187)scale(0.18 -0.18)\">\n     <defs>\n      <path d=\"M 628 4666 \nL 1259 4666 \nL 1259 2753 \nL 3553 2753 \nL 3553 4666 \nL 4184 4666 \nL 4184 0 \nL 3553 0 \nL 3553 2222 \nL 1259 2222 \nL 1259 0 \nL 628 0 \nL 628 4666 \nz\n\" id=\"DejaVuSans-48\" transform=\"scale(0.015625)\"/>\n     </defs>\n     <use xlink:href=\"#DejaVuSans-43\"/>\n     <use x=\"69.824219\" xlink:href=\"#DejaVuSans-6f\"/>\n     <use x=\"131.005859\" xlink:href=\"#DejaVuSans-72\"/>\n     <use x=\"170.369141\" xlink:href=\"#DejaVuSans-72\"/>\n     <use x=\"209.232422\" xlink:href=\"#DejaVuSans-65\"/>\n     <use x=\"270.755859\" xlink:href=\"#DejaVuSans-6c\"/>\n     <use x=\"298.539062\" xlink:href=\"#DejaVuSans-61\"/>\n     <use x=\"359.818359\" xlink:href=\"#DejaVuSans-74\"/>\n     <use x=\"399.027344\" xlink:href=\"#DejaVuSans-69\"/>\n     <use x=\"426.810547\" xlink:href=\"#DejaVuSans-6f\"/>\n     <use x=\"487.992188\" xlink:href=\"#DejaVuSans-6e\"/>\n     <use x=\"551.371094\" xlink:href=\"#DejaVuSans-20\"/>\n     <use x=\"583.158203\" xlink:href=\"#DejaVuSans-48\"/>\n     <use x=\"658.353516\" xlink:href=\"#DejaVuSans-65\"/>\n     <use x=\"719.876953\" xlink:href=\"#DejaVuSans-61\"/>\n     <use x=\"781.15625\" xlink:href=\"#DejaVuSans-74\"/>\n     <use x=\"820.365234\" xlink:href=\"#DejaVuSans-6d\"/>\n     <use x=\"917.777344\" xlink:href=\"#DejaVuSans-61\"/>\n     <use x=\"979.056641\" xlink:href=\"#DejaVuSans-70\"/>\n    </g>\n   </g>\n  </g>\n  <g id=\"axes_2\">\n   <g id=\"patch_3\">\n    <path d=\"M 845.375313 359.037187 \nL 861.683313 359.037187 \nL 861.683313 32.877187 \nL 845.375313 32.877187 \nz\n\" style=\"fill:#ffffff;\"/>\n   </g>\n   <g id=\"patch_4\">\n    <path clip-path=\"url(#pdf3279f7a6)\" d=\"M 845.375313 359.037187 \nL 845.375313 357.763125 \nL 845.375313 34.15125 \nL 845.375313 32.877188 \nL 861.683313 32.877188 \nL 861.683313 34.15125 \nL 861.683313 357.763125 \nL 861.683313 359.037187 \nL 861.683313 359.037187 \nz\n\" style=\"fill:#ffffff;stroke:#ffffff;stroke-linejoin:miter;stroke-width:0.01;\"/>\n   </g>\n   <image height=\"326\" id=\"imagecccd03044b\" transform=\"scale(1 -1)translate(0 -326)\" width=\"17\" x=\"845\" xlink:href=\"data:image/png;base64,\niVBORw0KGgoAAAANSUhEUgAAABEAAAFGCAYAAACMkXQBAAAB50lEQVR4nO2awY3DMAwEKVvXzxWT/juRlX+SH0fAgKALWHCHKzKRPV7/fzuSz7xGViJiXldeBJCImPfI+4GYACIME6I7DBOmO5qwaXLCtJjoToP9fkRMNAfQNB41YbsBlXJgESaACLWLETv5YubFjIJ8JSqwEiad2EOVUJNNYsfTHVXYJEw6sYdEqLBZmIz7JirJizBgETvjmpJKyoElRIBKqFOM2LGEjegOBNZiRxQ2xA4EVpJY0WSDRoEk9iKwzCkeGiYWO3MQP0Eb7K9KSoGNUmChsDF2GuzHUw1sNNgjlVArQzKoZxBXZAQWaGVY7HgqabDfD8TEYoepZGu+hCkGthN7ppKebIcqEYHdAbxpenb6k2GIyRP5SibgBqrkyRdCgQWgFOuOCixRiYaJpsWe7ojCti2TTbV3CBFLd6iwESJE2BYBdu18k0WneD15OxRYT2I9TCxhY+wQYWNirwkb0WJP2ES72JNYT9hMk02SWFHYHiRsFhEILGJnNZPaIg32l8iy7B0RE03Yak17EVjNtDcxsdhhYk+IiE5xLRHR7VY1JhY7nuXVYA+JlAPruYTxMLGIiMBuQiSIe7bQgA3gHV49Jp6cEN3xgLXkhBHZmr3jYUK02MSE+Kui6U69UyxZXp7EvgGrhFYEzl2KFQAAAABJRU5ErkJggg==\" y=\"-32\"/>\n   <g id=\"matplotlib.axis_3\"/>\n   <g id=\"matplotlib.axis_4\">\n    <g id=\"ytick_9\">\n     <g id=\"line2d_17\">\n      <defs>\n       <path d=\"M 0 0 \nL 3.5 0 \n\" id=\"m00ed672580\" style=\"stroke:#000000;stroke-width:0.8;\"/>\n      </defs>\n      <g>\n       <use style=\"stroke:#000000;stroke-width:0.8;\" x=\"861.683313\" xlink:href=\"#m00ed672580\" y=\"359.037187\"/>\n      </g>\n     </g>\n     <g id=\"text_67\">\n      <!-- −1.00 -->\n      <g transform=\"translate(868.683313 362.836406)scale(0.1 -0.1)\">\n       <defs>\n        <path d=\"M 678 2272 \nL 4684 2272 \nL 4684 1741 \nL 678 1741 \nL 678 2272 \nz\n\" id=\"DejaVuSans-2212\" transform=\"scale(0.015625)\"/>\n       </defs>\n       <use xlink:href=\"#DejaVuSans-2212\"/>\n       <use x=\"83.789062\" xlink:href=\"#DejaVuSans-31\"/>\n       <use x=\"147.412109\" xlink:href=\"#DejaVuSans-2e\"/>\n       <use x=\"179.199219\" xlink:href=\"#DejaVuSans-30\"/>\n       <use x=\"242.822266\" xlink:href=\"#DejaVuSans-30\"/>\n      </g>\n     </g>\n    </g>\n    <g id=\"ytick_10\">\n     <g id=\"line2d_18\">\n      <g>\n       <use style=\"stroke:#000000;stroke-width:0.8;\" x=\"861.683313\" xlink:href=\"#m00ed672580\" y=\"318.267187\"/>\n      </g>\n     </g>\n     <g id=\"text_68\">\n      <!-- −0.75 -->\n      <g transform=\"translate(868.683313 322.066406)scale(0.1 -0.1)\">\n       <use xlink:href=\"#DejaVuSans-2212\"/>\n       <use x=\"83.789062\" xlink:href=\"#DejaVuSans-30\"/>\n       <use x=\"147.412109\" xlink:href=\"#DejaVuSans-2e\"/>\n       <use x=\"179.199219\" xlink:href=\"#DejaVuSans-37\"/>\n       <use x=\"242.822266\" xlink:href=\"#DejaVuSans-35\"/>\n      </g>\n     </g>\n    </g>\n    <g id=\"ytick_11\">\n     <g id=\"line2d_19\">\n      <g>\n       <use style=\"stroke:#000000;stroke-width:0.8;\" x=\"861.683313\" xlink:href=\"#m00ed672580\" y=\"277.497187\"/>\n      </g>\n     </g>\n     <g id=\"text_69\">\n      <!-- −0.50 -->\n      <g transform=\"translate(868.683313 281.296406)scale(0.1 -0.1)\">\n       <use xlink:href=\"#DejaVuSans-2212\"/>\n       <use x=\"83.789062\" xlink:href=\"#DejaVuSans-30\"/>\n       <use x=\"147.412109\" xlink:href=\"#DejaVuSans-2e\"/>\n       <use x=\"179.199219\" xlink:href=\"#DejaVuSans-35\"/>\n       <use x=\"242.822266\" xlink:href=\"#DejaVuSans-30\"/>\n      </g>\n     </g>\n    </g>\n    <g id=\"ytick_12\">\n     <g id=\"line2d_20\">\n      <g>\n       <use style=\"stroke:#000000;stroke-width:0.8;\" x=\"861.683313\" xlink:href=\"#m00ed672580\" y=\"236.727188\"/>\n      </g>\n     </g>\n     <g id=\"text_70\">\n      <!-- −0.25 -->\n      <g transform=\"translate(868.683313 240.526406)scale(0.1 -0.1)\">\n       <use xlink:href=\"#DejaVuSans-2212\"/>\n       <use x=\"83.789062\" xlink:href=\"#DejaVuSans-30\"/>\n       <use x=\"147.412109\" xlink:href=\"#DejaVuSans-2e\"/>\n       <use x=\"179.199219\" xlink:href=\"#DejaVuSans-32\"/>\n       <use x=\"242.822266\" xlink:href=\"#DejaVuSans-35\"/>\n      </g>\n     </g>\n    </g>\n    <g id=\"ytick_13\">\n     <g id=\"line2d_21\">\n      <g>\n       <use style=\"stroke:#000000;stroke-width:0.8;\" x=\"861.683313\" xlink:href=\"#m00ed672580\" y=\"195.957188\"/>\n      </g>\n     </g>\n     <g id=\"text_71\">\n      <!-- 0.00 -->\n      <g transform=\"translate(868.683313 199.756406)scale(0.1 -0.1)\">\n       <use xlink:href=\"#DejaVuSans-30\"/>\n       <use x=\"63.623047\" xlink:href=\"#DejaVuSans-2e\"/>\n       <use x=\"95.410156\" xlink:href=\"#DejaVuSans-30\"/>\n       <use x=\"159.033203\" xlink:href=\"#DejaVuSans-30\"/>\n      </g>\n     </g>\n    </g>\n    <g id=\"ytick_14\">\n     <g id=\"line2d_22\">\n      <g>\n       <use style=\"stroke:#000000;stroke-width:0.8;\" x=\"861.683313\" xlink:href=\"#m00ed672580\" y=\"155.187187\"/>\n      </g>\n     </g>\n     <g id=\"text_72\">\n      <!-- 0.25 -->\n      <g transform=\"translate(868.683313 158.986406)scale(0.1 -0.1)\">\n       <use xlink:href=\"#DejaVuSans-30\"/>\n       <use x=\"63.623047\" xlink:href=\"#DejaVuSans-2e\"/>\n       <use x=\"95.410156\" xlink:href=\"#DejaVuSans-32\"/>\n       <use x=\"159.033203\" xlink:href=\"#DejaVuSans-35\"/>\n      </g>\n     </g>\n    </g>\n    <g id=\"ytick_15\">\n     <g id=\"line2d_23\">\n      <g>\n       <use style=\"stroke:#000000;stroke-width:0.8;\" x=\"861.683313\" xlink:href=\"#m00ed672580\" y=\"114.417188\"/>\n      </g>\n     </g>\n     <g id=\"text_73\">\n      <!-- 0.50 -->\n      <g transform=\"translate(868.683313 118.216406)scale(0.1 -0.1)\">\n       <use xlink:href=\"#DejaVuSans-30\"/>\n       <use x=\"63.623047\" xlink:href=\"#DejaVuSans-2e\"/>\n       <use x=\"95.410156\" xlink:href=\"#DejaVuSans-35\"/>\n       <use x=\"159.033203\" xlink:href=\"#DejaVuSans-30\"/>\n      </g>\n     </g>\n    </g>\n    <g id=\"ytick_16\">\n     <g id=\"line2d_24\">\n      <g>\n       <use style=\"stroke:#000000;stroke-width:0.8;\" x=\"861.683313\" xlink:href=\"#m00ed672580\" y=\"73.647188\"/>\n      </g>\n     </g>\n     <g id=\"text_74\">\n      <!-- 0.75 -->\n      <g transform=\"translate(868.683313 77.446406)scale(0.1 -0.1)\">\n       <use xlink:href=\"#DejaVuSans-30\"/>\n       <use x=\"63.623047\" xlink:href=\"#DejaVuSans-2e\"/>\n       <use x=\"95.410156\" xlink:href=\"#DejaVuSans-37\"/>\n       <use x=\"159.033203\" xlink:href=\"#DejaVuSans-35\"/>\n      </g>\n     </g>\n    </g>\n    <g id=\"ytick_17\">\n     <g id=\"line2d_25\">\n      <g>\n       <use style=\"stroke:#000000;stroke-width:0.8;\" x=\"861.683313\" xlink:href=\"#m00ed672580\" y=\"32.877188\"/>\n      </g>\n     </g>\n     <g id=\"text_75\">\n      <!-- 1.00 -->\n      <g transform=\"translate(868.683313 36.676406)scale(0.1 -0.1)\">\n       <use xlink:href=\"#DejaVuSans-31\"/>\n       <use x=\"63.623047\" xlink:href=\"#DejaVuSans-2e\"/>\n       <use x=\"95.410156\" xlink:href=\"#DejaVuSans-30\"/>\n       <use x=\"159.033203\" xlink:href=\"#DejaVuSans-30\"/>\n      </g>\n     </g>\n    </g>\n   </g>\n   <g id=\"LineCollection_1\"/>\n   <g id=\"patch_5\">\n    <path d=\"M 845.375313 359.037187 \nL 845.375313 357.763125 \nL 845.375313 34.15125 \nL 845.375313 32.877188 \nL 861.683313 32.877188 \nL 861.683313 34.15125 \nL 861.683313 357.763125 \nL 861.683313 359.037187 \nz\n\" style=\"fill:none;\"/>\n   </g>\n  </g>\n </g>\n <defs>\n  <clipPath id=\"p8eb06b86a3\">\n   <rect height=\"326.16\" width=\"714.24\" x=\"86.495313\" y=\"32.877187\"/>\n  </clipPath>\n  <clipPath id=\"pdf3279f7a6\">\n   <rect height=\"326.16\" width=\"16.308\" x=\"845.375313\" y=\"32.877187\"/>\n  </clipPath>\n </defs>\n</svg>\n",
                        "image/png": "[encoded data removed]"
                    },
                    "metadata": {
                        "needs_background": "light"
                    }
                }
            ],
            "metadata": {}
        },
        {
            "cell_type": "code",
            "execution_count": 24,
            "source": [
                "def removal_effects(df, conversion_rate):\n",
                "    removal_effects_dict = {}\n",
                "    channels = [channel for channel in df.columns if channel not in ['Start',\n",
                "                                                                     'Null',\n",
                "                                                                     'Conversion']]\n",
                "    for channel in channels:\n",
                "        removal_df = df.drop(channel, axis=1).drop(channel, axis=0)\n",
                "        for column in removal_df.columns:\n",
                "            row_sum = np.sum(list(removal_df.loc[column]))\n",
                "            null_pct = float(1) - row_sum\n",
                "            if null_pct != 0:\n",
                "                removal_df.loc[column]['Null'] = null_pct\n",
                "            removal_df.loc['Null']['Null'] = 1.0\n",
                "\n",
                "        removal_to_conv = removal_df[\n",
                "            ['Null', 'Conversion']].drop(['Null', 'Conversion'], axis=0)\n",
                "        removal_to_non_conv = removal_df.drop(\n",
                "            ['Null', 'Conversion'], axis=1).drop(['Null', 'Conversion'], axis=0)\n",
                "\n",
                "        removal_inv_diff = np.linalg.inv(\n",
                "            np.identity(\n",
                "                len(removal_to_non_conv.columns)) - np.asarray(removal_to_non_conv))\n",
                "        removal_dot_prod = np.dot(removal_inv_diff, np.asarray(removal_to_conv))\n",
                "        removal_cvr = pd.DataFrame(removal_dot_prod,\n",
                "                                   index=removal_to_conv.index)[[1]].loc['Start'].values[0]\n",
                "        removal_effect = 1 - removal_cvr / conversion_rate\n",
                "        removal_effects_dict[channel] = removal_effect\n",
                "\n",
                "    return removal_effects_dict\n",
                "\n",
                "\n",
                "removal_effects_dict = removal_effects(trans_matrix, base_conversion_rate)"
            ],
            "outputs": [],
            "metadata": {}
        },
        {
            "cell_type": "code",
            "execution_count": 25,
            "source": [
                "removal_effects_dict"
            ],
            "outputs": [
                {
                    "output_type": "execute_result",
                    "data": {
                        "text/plain": [
                            "{'Paid Search': 0.3311037560086154,\n",
                            " 'Instagram': 0.21731366149038456,\n",
                            " 'Online Display': 0.15435482356041286,\n",
                            " 'Facebook': 0.3547597674182721,\n",
                            " 'Online Video': 0.2069141165564219}"
                        ]
                    },
                    "metadata": {},
                    "execution_count": 25
                }
            ],
            "metadata": {}
        },
        {
            "cell_type": "code",
            "execution_count": 26,
            "source": [
                "def markov_chain_allocations(removal_effects, total_conversions):\n",
                "    re_sum = np.sum(list(removal_effects.values()))\n",
                "\n",
                "    return {k: (v / re_sum) * total_conversions for k, v in removal_effects.items()}\n",
                "\n",
                "\n",
                "attributions = markov_chain_allocations(removal_effects_dict, total_conversions)"
            ],
            "outputs": [],
            "metadata": {}
        },
        {
            "cell_type": "code",
            "execution_count": 27,
            "source": [
                "attributions"
            ],
            "outputs": [
                {
                    "output_type": "execute_result",
                    "data": {
                        "text/plain": [
                            "{'Paid Search': 4618.891257291355,\n",
                            " 'Instagram': 3031.5215485558924,\n",
                            " 'Online Display': 2153.2469267590836,\n",
                            " 'Facebook': 4948.892177847522,\n",
                            " 'Online Video': 2886.448089546147}"
                        ]
                    },
                    "metadata": {},
                    "execution_count": 27
                }
            ],
            "metadata": {}
        },
        {
            "cell_type": "code",
            "execution_count": null,
            "source": [],
            "outputs": [],
            "metadata": {}
        }
    ],
    "metadata": {
        "orig_nbformat": 4,
        "language_info": {
            "name": "python",
            "version": "3.8.8",
            "mimetype": "text/x-python",
            "codemirror_mode": {
                "name": "ipython",
                "version": 3
            },
            "pygments_lexer": "ipython3",
            "nbconvert_exporter": "python",
            "file_extension": ".py"
        },
        "kernelspec": {
            "name": "python3",
            "display_name": "Python 3.8.8 64-bit ('clase': conda)"
        },
        "interpreter": {
            "hash": "d42fd19a2ab707abe08ee910f571b4e52a19666f2318787bfa3fbaeba78fa94c"
        }
    },
    "nbformat": 4,
    "nbformat_minor": 2
}